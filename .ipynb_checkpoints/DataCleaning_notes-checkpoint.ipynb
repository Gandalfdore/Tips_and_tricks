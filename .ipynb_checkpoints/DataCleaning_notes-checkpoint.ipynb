{
 "cells": [
  {
   "cell_type": "markdown",
   "id": "60646eaf-049c-48df-a8f4-d583f6fe5614",
   "metadata": {},
   "source": [
    "## Aggregating data"
   ]
  },
  {
   "cell_type": "code",
   "execution_count": null,
   "id": "dce9e0ce-a452-48c7-b3ac-f44a2fe79268",
   "metadata": {},
   "outputs": [],
   "source": [
    "trd = pd.read_csv('train.csv')\n",
    "tsd = pd.read_csv('test.csv')\n",
    "td = pd.concat([trd, tsd], ignore_index=True, sort  = False)"
   ]
  },
  {
   "cell_type": "markdown",
   "id": "f6d1957e-e307-432a-b781-16ea28017f91",
   "metadata": {},
   "source": [
    "## Look| how much of each category there is"
   ]
  },
  {
   "cell_type": "code",
   "execution_count": null,
   "id": "69a57390-5f42-40f2-b27f-116f2efe1b65",
   "metadata": {},
   "outputs": [],
   "source": [
    "df.value_counts()\n",
    "df.value_counts().idxmax() # gives the most common value"
   ]
  },
  {
   "cell_type": "markdown",
   "id": "e5215012",
   "metadata": {},
   "source": [
    "## Normalize or flatten (In case one a jason file gives multiple entries per entry)"
   ]
  },
  {
   "cell_type": "code",
   "execution_count": null,
   "id": "fdfb95d8",
   "metadata": {},
   "outputs": [],
   "source": [
    "df2 = pd.json_normalize(results)"
   ]
  },
  {
   "cell_type": "markdown",
   "id": "666bc196-b97c-4435-b301-913bb054a2a7",
   "metadata": {},
   "source": [
    "## Look for number missing of values "
   ]
  },
  {
   "cell_type": "code",
   "execution_count": null,
   "id": "00d80237-015b-4ddc-b50f-95b753bf482d",
   "metadata": {},
   "outputs": [],
   "source": [
    "df_train['Colum_name'].isna().sum()"
   ]
  },
  {
   "cell_type": "markdown",
   "id": "4b3e3974-eb9a-484c-9520-079af30d919b",
   "metadata": {},
   "source": [
    "## Look for missing values (visually)"
   ]
  },
  {
   "cell_type": "code",
   "execution_count": null,
   "id": "19a9c949-5a6d-4612-aa88-636df17dc2ab",
   "metadata": {},
   "outputs": [],
   "source": [
    "td.isnull().sum()\n",
    "\n",
    "sns.heatmap(td.isnull(), cbar = False).set_title(\"Missing values heatmap\")"
   ]
  },
  {
   "cell_type": "markdown",
   "id": "641d2a6d-17a4-4543-87bf-2a8114d11a5d",
   "metadata": {},
   "source": [
    "## Binning"
   ]
  },
  {
   "cell_type": "code",
   "execution_count": null,
   "id": "4e9eb826-ca78-47f2-a9b8-863de97de66e",
   "metadata": {},
   "outputs": [],
   "source": [
    "td['Price_Category'] = pd.cut(td['Price'], bins=[0,7.90,14.45,31.28,120], labels=['Low','Mid','High_Mid','High'], include_lowest=True)\n",
    "pyplot.bar(group_names, df[\"horsepower-binned\"].value_counts()) # to plot"
   ]
  },
  {
   "cell_type": "markdown",
   "id": "92756aa1-5523-47fe-bf54-27f97488f861",
   "metadata": {},
   "source": [
    "## Filling in NaN values - filling with the Mode, fillin with a new object"
   ]
  },
  {
   "cell_type": "code",
   "execution_count": null,
   "id": "33a1db25-55a4-463f-a3f9-ddd7f8353b5c",
   "metadata": {},
   "outputs": [],
   "source": [
    "td.Column_name.fillna(td.Column_name.mode()[0], inplace = True)"
   ]
  },
  {
   "cell_type": "code",
   "execution_count": null,
   "id": "2f26ad7d-c15b-43c1-9c36-818c9d2be2ad",
   "metadata": {},
   "outputs": [],
   "source": [
    "td.Column_name = td.Column_name.fillna('NA')"
   ]
  },
  {
   "cell_type": "markdown",
   "id": "5a3c7db3-0b1f-4de7-9f18-56c90e7b32b6",
   "metadata": {},
   "source": [
    "## Replacing \"?\" with NaN"
   ]
  },
  {
   "cell_type": "code",
   "execution_count": null,
   "id": "fadfafb1-c2bc-410b-8f51-53f056dab8bf",
   "metadata": {},
   "outputs": [],
   "source": [
    "df.replace(\"?\", np.nan, inplace = True)"
   ]
  },
  {
   "cell_type": "markdown",
   "id": "4362c36d-6ed6-47dd-9b2f-6e2b1eaf29d9",
   "metadata": {},
   "source": [
    "## Concatonation"
   ]
  },
  {
   "cell_type": "code",
   "execution_count": null,
   "id": "19c119e2-92d9-44f0-b737-0cb9aa516f0a",
   "metadata": {},
   "outputs": [],
   "source": [
    "df = pd.concat([df,df2],axis=1)"
   ]
  },
  {
   "cell_type": "markdown",
   "id": "7a7ba427-78d9-4604-9679-370b1d84b4b7",
   "metadata": {},
   "source": [
    "## Easy pandas encoder"
   ]
  },
  {
   "cell_type": "code",
   "execution_count": null,
   "id": "f72e5358-d7a8-43d4-81dc-4412e2c95d2d",
   "metadata": {},
   "outputs": [],
   "source": [
    "df_train['Gender'] = df_train['Gender'].map({'male': 0, 'female': 1}).astype(int)"
   ]
  },
  {
   "cell_type": "markdown",
   "id": "a5e949b5-696c-48b6-8c3f-cde4a2ba03e5",
   "metadata": {},
   "source": [
    "## One hot encoder"
   ]
  },
  {
   "cell_type": "code",
   "execution_count": null,
   "id": "5dff6afd-bf2a-4e4c-b977-09bbd74eaa27",
   "metadata": {},
   "outputs": [],
   "source": [
    "from sklearn.preprocessing import OneHotEncoder\n",
    "\n",
    "cat_encoder = OneHotEncoder()\n",
    "embarked_hot_cat = cat_encoder.fit_transform(df_train[['Embarked']])\n",
    "df_embarked_hot_cat = pd.DataFrame(embarked_hot_cat.toarray())\n",
    "\n",
    "cat_encoder.categories_\n",
    "df_embarked_hot_cat"
   ]
  },
  {
   "cell_type": "markdown",
   "id": "a736a811-deb2-4c5f-a9dd-63e6f8e1eb86",
   "metadata": {},
   "source": [
    "## Ordinal encoder"
   ]
  },
  {
   "cell_type": "code",
   "execution_count": null,
   "id": "ab38c44d-54a1-4513-8ba1-265799f3051a",
   "metadata": {},
   "outputs": [],
   "source": [
    "ordinal_encoder = OrdinalEncoder()\n",
    "df_cabin_class_encoded = ordinal_encoder.fit_transform(df_cabin_class)\n",
    "ordinal_encoder.categories_"
   ]
  },
  {
   "cell_type": "markdown",
   "id": "f0c1671c-44ef-4550-9f0e-1ef55b65ebe2",
   "metadata": {},
   "source": [
    "### Dummy variables (turns pandas column having only 2 kinds of values into 0s and 1s)"
   ]
  },
  {
   "cell_type": "code",
   "execution_count": null,
   "id": "87521213-eab3-429f-ac29-7ae8bad43af2",
   "metadata": {},
   "outputs": [],
   "source": [
    "pandas.get_dummies(df['blabla'])"
   ]
  },
  {
   "cell_type": "markdown",
   "id": "cd4f7453-74b5-4549-9d55-0149e4e5cebb",
   "metadata": {},
   "source": [
    "### Rename"
   ]
  },
  {
   "cell_type": "code",
   "execution_count": null,
   "id": "ff9a8017-aeb6-44b4-b278-0857da9de61e",
   "metadata": {},
   "outputs": [],
   "source": [
    "df.rename(columns={'\"some_name\"':'some_other_name'}, inplace=True)"
   ]
  },
  {
   "cell_type": "markdown",
   "id": "023d4354-5d99-47f4-bba3-b7d6c0482c85",
   "metadata": {},
   "source": [
    "# Filling in missing values in a column using SVC"
   ]
  },
  {
   "cell_type": "code",
   "execution_count": null,
   "id": "74a2db1a-95a0-40c3-9215-59f9abc82249",
   "metadata": {},
   "outputs": [],
   "source": [
    "from sklearn.svm import SVC\n",
    "# Separating the data to predict the missing ages\n",
    "X_train = df_train[df_train.Age.notnull()][['Pclass','Sex','SibSp','Parch', 'Fare']]\n",
    "X_test = df_train[df_train.Age.isnull()][['Pclass','Sex','SibSp','Parch', 'Fare']]\n",
    "y = df_train.Age.dropna()"
   ]
  },
  {
   "cell_type": "code",
   "execution_count": null,
   "id": "47bf2a22-e811-49eb-90d6-18c0eca17a26",
   "metadata": {},
   "outputs": [],
   "source": [
    "# Predicting the missing ages\n",
    "age_classifier = SVC()\n",
    "age_classifier.fit(X_train, y)\n",
    "prediction = age_classifier.predict(X_test)\n",
    "agePrediction = pd.DataFrame(data=prediction,index=X_test.index.values,columns=['Age']) # this preserves the index values of the original array"
   ]
  },
  {
   "cell_type": "code",
   "execution_count": null,
   "id": "d00fe82a-5480-49e1-ba7c-807a03e76e16",
   "metadata": {},
   "outputs": [],
   "source": [
    "df_train = df_train.combine_first(agePrediction)"
   ]
  },
  {
   "cell_type": "code",
   "execution_count": null,
   "id": "c6effad7-37ff-4baa-a1fc-58df70fc7765",
   "metadata": {},
   "outputs": [],
   "source": []
  }
 ],
 "metadata": {
  "kernelspec": {
   "display_name": "Python 3 (ipykernel)",
   "language": "python",
   "name": "python3"
  },
  "language_info": {
   "codemirror_mode": {
    "name": "ipython",
    "version": 3
   },
   "file_extension": ".py",
   "mimetype": "text/x-python",
   "name": "python",
   "nbconvert_exporter": "python",
   "pygments_lexer": "ipython3",
   "version": "3.10.8"
  }
 },
 "nbformat": 4,
 "nbformat_minor": 5
}
