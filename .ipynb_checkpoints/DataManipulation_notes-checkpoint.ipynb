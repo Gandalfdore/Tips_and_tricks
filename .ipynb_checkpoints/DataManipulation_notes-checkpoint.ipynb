{
 "cells": [
  {
   "cell_type": "markdown",
   "id": "c8051f15-2a2e-42b1-b4f2-6ca9b8e67318",
   "metadata": {},
   "source": [
    "### Pipelining"
   ]
  },
  {
   "cell_type": "code",
   "execution_count": null,
   "id": "b87196b6-f22a-4d0b-a4b5-067658eebb0a",
   "metadata": {},
   "outputs": [],
   "source": [
    "from sklearn.pipeline import Pipeline\n",
    "from sklearn.preprocessing import StandardScaler\n",
    "\n",
    "Input=[('scale',StandardScaler()), ('polynomial', PolynomialFeatures(include_bias=False)), ('model',LinearRegression())]\n",
    "\n",
    "pipe=Pipeline(Input)\n",
    "pipe\n",
    "\n",
    "pipe.fit(Z,y)\n",
    "ypipe=pipe.predict(Z)"
   ]
  },
  {
   "cell_type": "markdown",
   "id": "d62e82f2-c4d3-45d5-b931-f53e01880f5b",
   "metadata": {},
   "source": [
    "### Calling a Support Vector Machine and feeding it values"
   ]
  },
  {
   "cell_type": "code",
   "execution_count": null,
   "id": "9f3f9a9d-d7ad-4b54-91f3-dd8dc8aea5f1",
   "metadata": {},
   "outputs": [],
   "source": [
    "from sklearn.svm import SVC\n",
    "from sklearn.model_selection import train_test_split\n",
    "\n",
    "# Taking only the features that is important for now\n",
    "# X = df_train[['Sex', 'Age']]\n",
    "X = df_train[['Sex']]\n",
    "\n",
    "# Taking the labels (Survived or Not Survived)\n",
    "Y = df_train['Survived']"
   ]
  },
  {
   "cell_type": "code",
   "execution_count": null,
   "id": "6c5c58dd-f30d-43ea-bc0b-a279530f6c14",
   "metadata": {},
   "outputs": [],
   "source": [
    "# Spliting into 80% for training set and 20% for testing set so we can see our accuracy\n",
    "X_train, x_test, Y_train, y_test = train_test_split(X, Y, test_size=0.2, random_state=0)  # maybe one should stratify it, to make it representative"
   ]
  },
  {
   "cell_type": "code",
   "execution_count": null,
   "id": "f27ef6a3-fa62-4c0d-9d60-b972217b79d6",
   "metadata": {},
   "outputs": [],
   "source": [
    "# Declaring the SVC with no tunning\n",
    "classifier = SVC()\n",
    "\n",
    "# Fitting the data. This is where the SVM will learn\n",
    "classifier.fit(X_train, Y_train)\n",
    "\n",
    "# Predicting the result and giving the accuracy\n",
    "score = classifier.score(x_test, y_test)"
   ]
  },
  {
   "cell_type": "code",
   "execution_count": null,
   "id": "1674ed33-aa76-4c1f-8949-d0f69eb2cba6",
   "metadata": {},
   "outputs": [],
   "source": [
    "print(score)"
   ]
  },
  {
   "cell_type": "markdown",
   "id": "ffb3bee2-895c-45ab-b385-1744f8f4c0c4",
   "metadata": {},
   "source": [
    "### Creating and fitting polynomial laws"
   ]
  },
  {
   "cell_type": "code",
   "execution_count": null,
   "id": "9b968397-454c-4050-81de-566474a75c29",
   "metadata": {},
   "outputs": [],
   "source": [
    "from sklearn.preprocessing import PolynomialFeatures\n",
    "\n",
    "x_train, x_test, y_train, y_test = train_test_split(x_data, y_data, test_size=0.35, random_state=0)"
   ]
  },
  {
   "cell_type": "code",
   "execution_count": null,
   "id": "2eb00b89-6e02-4f5e-9197-a01320db6496",
   "metadata": {},
   "outputs": [],
   "source": [
    "pr = PolynomialFeatures(degree=5)\n",
    "x_train_pr = pr.fit_transform(x_train[['horsepower']])\n",
    "x_test_pr = pr.fit_transform(x_test[['horsepower']])\n",
    "\n",
    "poly = LinearRegression()\n",
    "poly.fit(x_train_pr, y_train)\n",
    "\n",
    "yhat = poly.predict(x_test_pr)\n",
    "\n",
    "print(\"Predicted values:\", yhat[0:4])\n",
    "print(\"True values:\", y_test[0:4].values)"
   ]
  },
  {
   "cell_type": "code",
   "execution_count": null,
   "id": "664fa969-fd23-438a-8609-1213b3854630",
   "metadata": {},
   "outputs": [],
   "source": []
  }
 ],
 "metadata": {
  "kernelspec": {
   "display_name": "Python 3 (ipykernel)",
   "language": "python",
   "name": "python3"
  },
  "language_info": {
   "codemirror_mode": {
    "name": "ipython",
    "version": 3
   },
   "file_extension": ".py",
   "mimetype": "text/x-python",
   "name": "python",
   "nbconvert_exporter": "python",
   "pygments_lexer": "ipython3",
   "version": "3.10.8"
  }
 },
 "nbformat": 4,
 "nbformat_minor": 5
}
