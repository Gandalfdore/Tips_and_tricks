{
 "cells": [
  {
   "cell_type": "markdown",
   "id": "383a8a29-1ea6-4e8d-977b-a951b25ec44d",
   "metadata": {},
   "source": [
    "# Intial checking commands"
   ]
  },
  {
   "cell_type": "code",
   "execution_count": null,
   "id": "87638ee3-ea5b-4a3e-af62-eebe1d7aa8bd",
   "metadata": {},
   "outputs": [],
   "source": [
    "df.head(10)\n",
    "df.tail(10)\n",
    "\n",
    "df.types # to get the types of variables\n",
    "df.info() # general info"
   ]
  },
  {
   "cell_type": "markdown",
   "id": "35526def-30ab-4318-8d22-69919c06bfac",
   "metadata": {},
   "source": [
    "### Cheack the statistics"
   ]
  },
  {
   "cell_type": "code",
   "execution_count": null,
   "id": "fff9bf36-525a-4c94-8775-fefec6a6dbb7",
   "metadata": {},
   "outputs": [],
   "source": [
    "df.describe() # or df[['column1','column2', ...]].describe() ## descriptions\n",
    "df.describe(include=['object']) # if there are objects it does statistic on them as well\n",
    "df.describe(include = \"all\") # more descriptions"
   ]
  },
  {
   "cell_type": "markdown",
   "id": "acb53079-4088-4884-922f-3b2390a0ff71",
   "metadata": {},
   "source": [
    "### Cleaning"
   ]
  },
  {
   "cell_type": "code",
   "execution_count": null,
   "id": "89995714-37de-460b-9b9b-2bb71fda61c3",
   "metadata": {},
   "outputs": [],
   "source": [
    "df.replace('?',np.NaN) # if needed\n",
    "df.dropna(subset=['blabla']) # to drop NaNs if needed"
   ]
  }
 ],
 "metadata": {
  "kernelspec": {
   "display_name": "Python 3 (ipykernel)",
   "language": "python",
   "name": "python3"
  },
  "language_info": {
   "codemirror_mode": {
    "name": "ipython",
    "version": 3
   },
   "file_extension": ".py",
   "mimetype": "text/x-python",
   "name": "python",
   "nbconvert_exporter": "python",
   "pygments_lexer": "ipython3",
   "version": "3.10.8"
  }
 },
 "nbformat": 4,
 "nbformat_minor": 5
}
