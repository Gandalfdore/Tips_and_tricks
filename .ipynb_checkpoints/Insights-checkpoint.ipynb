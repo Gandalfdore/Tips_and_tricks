{
 "cells": [
  {
   "cell_type": "markdown",
   "id": "1b836940-5e2d-4f49-acab-28610ca0681c",
   "metadata": {},
   "source": [
    "# Insights_from_dataframes"
   ]
  },
  {
   "cell_type": "markdown",
   "id": "c6423f16-1c29-4fe3-9ac3-1835b56a3da2",
   "metadata": {},
   "source": [
    "### Look for correlations"
   ]
  },
  {
   "cell_type": "code",
   "execution_count": null,
   "id": "37a616e9-dd64-4acd-a51a-0731fad6b2cd",
   "metadata": {},
   "outputs": [],
   "source": [
    "df.corr()"
   ]
  },
  {
   "cell_type": "markdown",
   "id": "83e1c254-860d-405f-ab69-6211e5ac1733",
   "metadata": {},
   "source": [
    "### Check statistics"
   ]
  },
  {
   "cell_type": "code",
   "execution_count": null,
   "id": "bba8d220-4205-43d7-ad79-11a97de365c1",
   "metadata": {},
   "outputs": [],
   "source": [
    "df.describe() # or df[['column1','column2', ...]].describe() ## descriptions\n",
    "df.describe(include=['object']) # if there are objects it does statistic on them as well\n",
    "df.describe(include = \"all\") # more descriptions"
   ]
  },
  {
   "cell_type": "markdown",
   "id": "f243b836-5b23-4c7a-ad5b-a1dac4aee358",
   "metadata": {},
   "source": [
    "### Grouping"
   ]
  },
  {
   "cell_type": "code",
   "execution_count": null,
   "id": "641fa427-a0a4-461e-ad5e-21e20b115c32",
   "metadata": {},
   "outputs": [],
   "source": [
    "df_group_one = df_group_one.groupby(['drive-wheels'],as_index=False).mean()  # group by a certrain column (except the last) and average by the last column"
   ]
  },
  {
   "cell_type": "markdown",
   "id": "9304fbe0-0091-44a5-8bec-d356944c6ea5",
   "metadata": {},
   "source": [
    "### Pivoting tables (of groups)"
   ]
  },
  {
   "cell_type": "code",
   "execution_count": null,
   "id": "0681cac4-0cf5-495b-9847-72d1e7fcbe14",
   "metadata": {},
   "outputs": [],
   "source": [
    "# here we have grouping by two groups\n",
    "df_gptest = df[['drive-wheels','body-style','price']]\n",
    "grouped_test1 = df_gptest.groupby(['drive-wheels','body-style'],as_index=False).mean() \n",
    "\n",
    "# thus it will be easier to pivot the table to understand it\n",
    "grouped_pivot = grouped_test1.pivot(index='drive-wheels',columns='body-style')"
   ]
  },
  {
   "cell_type": "markdown",
   "id": "57d589b3-0d97-41ba-9ff6-502ad54e04d1",
   "metadata": {},
   "source": [
    "### Color-code plot of the pivot table "
   ]
  },
  {
   "cell_type": "code",
   "execution_count": null,
   "id": "366bc931-8436-45f6-9cfa-67711da5021b",
   "metadata": {},
   "outputs": [],
   "source": [
    "plt.pcolor(grouped_pivot, cmap='RdBu')\n",
    "plt.colorbar()\n",
    "plt.show()\n",
    "\n",
    "### and now plot it nicely ###\n",
    "fig, ax = plt.subplots()\n",
    "im = ax.pcolor(grouped_pivot, cmap='RdBu')\n",
    "\n",
    "#label names\n",
    "row_labels = grouped_pivot.columns.levels[1]\n",
    "col_labels = grouped_pivot.index\n",
    "\n",
    "#move ticks and labels to the center\n",
    "ax.set_xticks(np.arange(grouped_pivot.shape[1]) + 0.5, minor=False)\n",
    "ax.set_yticks(np.arange(grouped_pivot.shape[0]) + 0.5, minor=False)\n",
    "\n",
    "#insert labels\n",
    "ax.set_xticklabels(row_labels, minor=False)\n",
    "ax.set_yticklabels(col_labels, minor=False)\n",
    "\n",
    "#rotate label if too long\n",
    "plt.xticks(rotation=90)\n",
    "\n",
    "fig.colorbar(im)\n",
    "plt.show()"
   ]
  },
  {
   "cell_type": "markdown",
   "id": "ecd914c8-79ed-47f6-ab17-cb776a9b988b",
   "metadata": {},
   "source": []
  },
  {
   "cell_type": "code",
   "execution_count": null,
   "id": "eb45c4d7-1670-4486-a439-73e3c5137e2c",
   "metadata": {},
   "outputs": [],
   "source": []
  }
 ],
 "metadata": {
  "kernelspec": {
   "display_name": "Python 3 (ipykernel)",
   "language": "python",
   "name": "python3"
  },
  "language_info": {
   "codemirror_mode": {
    "name": "ipython",
    "version": 3
   },
   "file_extension": ".py",
   "mimetype": "text/x-python",
   "name": "python",
   "nbconvert_exporter": "python",
   "pygments_lexer": "ipython3",
   "version": "3.10.8"
  }
 },
 "nbformat": 4,
 "nbformat_minor": 5
}
