{
 "cells": [
  {
   "cell_type": "markdown",
   "id": "60646eaf-049c-48df-a8f4-d583f6fe5614",
   "metadata": {},
   "source": [
    "## Aggregating data"
   ]
  },
  {
   "cell_type": "code",
   "execution_count": null,
   "id": "dce9e0ce-a452-48c7-b3ac-f44a2fe79268",
   "metadata": {},
   "outputs": [],
   "source": [
    "trd = pd.read_csv('train.csv')\n",
    "tsd = pd.read_csv('test.csv')\n",
    "td = pd.concat([trd, tsd], ignore_index=True, sort  = False)"
   ]
  },
  {
   "cell_type": "markdown",
   "id": "f6d1957e-e307-432a-b781-16ea28017f91",
   "metadata": {},
   "source": [
    "## Look| how much of each category there is"
   ]
  },
  {
   "cell_type": "code",
   "execution_count": null,
   "id": "69a57390-5f42-40f2-b27f-116f2efe1b65",
   "metadata": {},
   "outputs": [],
   "source": [
    "df.value_counts()\n",
    "df.value_counts().idxmax() # gives the most common value\n",
    "\n",
    "# How many different values are there\n",
    "df.nunique()"
   ]
  },
  {
   "cell_type": "markdown",
   "id": "e5215012",
   "metadata": {},
   "source": [
    "## Normalize or flatten (In case one a jason file gives multiple entries per entry)"
   ]
  },
  {
   "cell_type": "code",
   "execution_count": null,
   "id": "fdfb95d8",
   "metadata": {},
   "outputs": [],
   "source": [
    "df2 = pd.json_normalize(results)"
   ]
  },
  {
   "cell_type": "markdown",
   "id": "666bc196-b97c-4435-b301-913bb054a2a7",
   "metadata": {},
   "source": [
    "## Look for number missing of values "
   ]
  },
  {
   "cell_type": "code",
   "execution_count": null,
   "id": "00d80237-015b-4ddc-b50f-95b753bf482d",
   "metadata": {},
   "outputs": [],
   "source": [
    "df_train['Colum_name'].isna().sum()"
   ]
  },
  {
   "cell_type": "markdown",
   "id": "4b3e3974-eb9a-484c-9520-079af30d919b",
   "metadata": {},
   "source": [
    "## Look for missing values (visually)"
   ]
  },
  {
   "cell_type": "code",
   "execution_count": null,
   "id": "19a9c949-5a6d-4612-aa88-636df17dc2ab",
   "metadata": {},
   "outputs": [],
   "source": [
    "td.isnull().sum()\n",
    "\n",
    "sns.heatmap(td.isnull(), cbar = False).set_title(\"Missing values heatmap\")"
   ]
  },
  {
   "cell_type": "code",
   "execution_count": null,
   "id": "de5fb977-d6aa-40d5-8917-f5e223cfef22",
   "metadata": {},
   "outputs": [],
   "source": []
  },
  {
   "cell_type": "markdown",
   "id": "641d2a6d-17a4-4543-87bf-2a8114d11a5d",
   "metadata": {},
   "source": [
    "## Binning"
   ]
  },
  {
   "cell_type": "code",
   "execution_count": null,
   "id": "4e9eb826-ca78-47f2-a9b8-863de97de66e",
   "metadata": {},
   "outputs": [],
   "source": [
    "td['Price_Category'] = pd.cut(td['Price'], bins=[0,7.90,14.45,31.28,120], labels=['Low','Mid','High_Mid','High'], include_lowest=True)\n",
    "pyplot.bar(group_names, df[\"horsepower-binned\"].value_counts()) # to plot\n",
    "\n",
    "# more binning\n",
    "\n",
    "df['years_used'] = pd.cut(df.days_used, 6, labels=['0.5', '1', '1.5', '2', '2.5', '3'])"
   ]
  },
  {
   "cell_type": "markdown",
   "id": "92756aa1-5523-47fe-bf54-27f97488f861",
   "metadata": {},
   "source": [
    "## Filling in NaN values - filling with the Mode, fillin with a new object"
   ]
  },
  {
   "cell_type": "code",
   "execution_count": null,
   "id": "33a1db25-55a4-463f-a3f9-ddd7f8353b5c",
   "metadata": {},
   "outputs": [],
   "source": [
    "td.Column_name.fillna(td.Column_name.mode()[0], inplace = True)"
   ]
  },
  {
   "cell_type": "code",
   "execution_count": null,
   "id": "2f26ad7d-c15b-43c1-9c36-818c9d2be2ad",
   "metadata": {},
   "outputs": [],
   "source": [
    "td.Column_name = td.Column_name.fillna('NA')"
   ]
  },
  {
   "cell_type": "markdown",
   "id": "5a3c7db3-0b1f-4de7-9f18-56c90e7b32b6",
   "metadata": {},
   "source": [
    "## Replacing \"?\" with NaN"
   ]
  },
  {
   "cell_type": "code",
   "execution_count": null,
   "id": "fadfafb1-c2bc-410b-8f51-53f056dab8bf",
   "metadata": {},
   "outputs": [],
   "source": [
    "df.replace(\"?\", np.nan, inplace = True)\n",
    "\n",
    "# or eqivalently\n",
    "df[i].fillna(df[i].mean(),inplace=True)"
   ]
  },
  {
   "cell_type": "markdown",
   "id": "35ec5dd7-831a-4ba9-80af-af98ebcbd6a7",
   "metadata": {},
   "source": [
    "## Replacing (or encoding) some arbitrary values with a conditional statement"
   ]
  },
  {
   "cell_type": "code",
   "execution_count": null,
   "id": "23318d45-b9a7-442a-a9fa-af87a0c142d8",
   "metadata": {},
   "outputs": [],
   "source": [
    "map_set = {\"apple\", \"banana\", \"cherry\"} # some set - a tuple, list, etc.\n",
    "df['Outcome01'] = df['Outcome'].apply(lambda x: '0' if x in map_set else '1')"
   ]
  },
  {
   "cell_type": "markdown",
   "id": "4362c36d-6ed6-47dd-9b2f-6e2b1eaf29d9",
   "metadata": {},
   "source": [
    "## Concatonation"
   ]
  },
  {
   "cell_type": "code",
   "execution_count": null,
   "id": "19c119e2-92d9-44f0-b737-0cb9aa516f0a",
   "metadata": {},
   "outputs": [],
   "source": [
    "df = pd.concat([df,df2],axis=1)"
   ]
  },
  {
   "cell_type": "markdown",
   "id": "7a7ba427-78d9-4604-9679-370b1d84b4b7",
   "metadata": {},
   "source": [
    "## Easy pandas encoder"
   ]
  },
  {
   "cell_type": "code",
   "execution_count": null,
   "id": "f72e5358-d7a8-43d4-81dc-4412e2c95d2d",
   "metadata": {},
   "outputs": [],
   "source": [
    "df_train['Gender'] = df_train['Gender'].map({'male': 0, 'female': 1}).astype(int)"
   ]
  },
  {
   "cell_type": "markdown",
   "id": "a5e949b5-696c-48b6-8c3f-cde4a2ba03e5",
   "metadata": {},
   "source": [
    "## One hot encoder"
   ]
  },
  {
   "cell_type": "code",
   "execution_count": null,
   "id": "5dff6afd-bf2a-4e4c-b977-09bbd74eaa27",
   "metadata": {},
   "outputs": [],
   "source": [
    "from sklearn.preprocessing import OneHotEncoder\n",
    "\n",
    "cat_encoder = OneHotEncoder()\n",
    "embarked_hot_cat = cat_encoder.fit_transform(df_train[['Embarked']])\n",
    "df_embarked_hot_cat = pd.DataFrame(embarked_hot_cat.toarray())\n",
    "\n",
    "cat_encoder.categories_\n",
    "df_embarked_hot_cat"
   ]
  },
  {
   "cell_type": "markdown",
   "id": "a736a811-deb2-4c5f-a9dd-63e6f8e1eb86",
   "metadata": {},
   "source": [
    "## Ordinal encoder"
   ]
  },
  {
   "cell_type": "code",
   "execution_count": null,
   "id": "ab38c44d-54a1-4513-8ba1-265799f3051a",
   "metadata": {},
   "outputs": [],
   "source": [
    "ordinal_encoder = OrdinalEncoder()\n",
    "df_cabin_class_encoded = ordinal_encoder.fit_transform(df_cabin_class)\n",
    "ordinal_encoder.categories_"
   ]
  },
  {
   "cell_type": "markdown",
   "id": "f0c1671c-44ef-4550-9f0e-1ef55b65ebe2",
   "metadata": {},
   "source": [
    "### Dummy variables (turns pandas column having only 2 kinds of values into 0s and 1s)"
   ]
  },
  {
   "cell_type": "code",
   "execution_count": null,
   "id": "87521213-eab3-429f-ac29-7ae8bad43af2",
   "metadata": {},
   "outputs": [],
   "source": [
    "pandas.get_dummies(df['blabla'])"
   ]
  },
  {
   "cell_type": "markdown",
   "id": "cd4f7453-74b5-4549-9d55-0149e4e5cebb",
   "metadata": {},
   "source": [
    "### Rename"
   ]
  },
  {
   "cell_type": "code",
   "execution_count": null,
   "id": "ff9a8017-aeb6-44b4-b278-0857da9de61e",
   "metadata": {},
   "outputs": [],
   "source": [
    "df.rename(columns={'\"some_name\"':'some_other_name'}, inplace=True)\n",
    "# or just rename them cardinally\n",
    "df_total.columns = ['year', 'total']"
   ]
  },
  {
   "cell_type": "markdown",
   "id": "761a04d8-7660-4c9b-bb99-5ba7b6e25888",
   "metadata": {},
   "source": [
    "### Reset numbers in pandas column (after operation where some of them were imputed)"
   ]
  },
  {
   "cell_type": "code",
   "execution_count": null,
   "id": "8bcec22a-6aab-4a37-b5be-704f9f996779",
   "metadata": {},
   "outputs": [],
   "source": [
    "data_falcon9.loc[:,'FlightNumber'] = list(range(1, data_falcon9.shape[0]+1))"
   ]
  },
  {
   "cell_type": "markdown",
   "id": "023d4354-5d99-47f4-bba3-b7d6c0482c85",
   "metadata": {},
   "source": [
    "# Filling in missing values in a column using SVC"
   ]
  },
  {
   "cell_type": "code",
   "execution_count": null,
   "id": "74a2db1a-95a0-40c3-9215-59f9abc82249",
   "metadata": {},
   "outputs": [],
   "source": [
    "from sklearn.svm import SVC\n",
    "# Separating the data to predict the missing ages\n",
    "X_train = df_train[df_train.Age.notnull()][['Pclass','Sex','SibSp','Parch', 'Fare']]\n",
    "X_test = df_train[df_train.Age.isnull()][['Pclass','Sex','SibSp','Parch', 'Fare']]\n",
    "y = df_train.Age.dropna()"
   ]
  },
  {
   "cell_type": "code",
   "execution_count": null,
   "id": "47bf2a22-e811-49eb-90d6-18c0eca17a26",
   "metadata": {},
   "outputs": [],
   "source": [
    "# Predicting the missing ages\n",
    "age_classifier = SVC()\n",
    "age_classifier.fit(X_train, y)\n",
    "prediction = age_classifier.predict(X_test)\n",
    "agePrediction = pd.DataFrame(data=prediction,index=X_test.index.values,columns=['Age']) # this preserves the index values of the original array"
   ]
  },
  {
   "cell_type": "code",
   "execution_count": null,
   "id": "d00fe82a-5480-49e1-ba7c-807a03e76e16",
   "metadata": {},
   "outputs": [],
   "source": [
    "df_train = df_train.combine_first(agePrediction)"
   ]
  },
  {
   "cell_type": "markdown",
   "id": "7b01e9a9-793e-4d0f-8d61-1969122cb792",
   "metadata": {},
   "source": [
    "## Change a certain column to be the index column (pandas)"
   ]
  },
  {
   "cell_type": "code",
   "execution_count": null,
   "id": "9d2570af-1b67-45d7-a9a3-268cd1ed5b9a",
   "metadata": {},
   "outputs": [],
   "source": [
    "df_can.set_index('Country', inplace=True)\n",
    "\n",
    "# optional: to remove the name of the index\n",
    "df_can.index.name = None"
   ]
  },
  {
   "cell_type": "markdown",
   "id": "b4479b25-e5e2-4ebd-9017-4f794d7dba17",
   "metadata": {},
   "source": [
    "## Other pandas tricks"
   ]
  },
  {
   "cell_type": "code",
   "execution_count": null,
   "id": "98f6dae0-f7d2-4da3-989a-1342470513bc",
   "metadata": {},
   "outputs": [],
   "source": [
    "# how to access the full row data (in different ways)\n",
    "df_can.loc['Japan']\n",
    "df_can.iloc[87]\n",
    "df_can[df_can.index == 'Japan']"
   ]
  },
  {
   "cell_type": "code",
   "execution_count": null,
   "id": "05de7229-91f5-4fbd-864f-dc94c76c89b4",
   "metadata": {},
   "outputs": [],
   "source": [
    "# make the column names strings\n",
    "df_can.columns = list(map(str, df_can.columns))"
   ]
  },
  {
   "cell_type": "code",
   "execution_count": null,
   "id": "a8aca4f5-7144-48b8-8cbb-b01999dbc56d",
   "metadata": {},
   "outputs": [],
   "source": [
    "# conditional selections\n",
    "condition = df_can['Continent'] == 'Asia'\n",
    "df_can[condition]\n",
    "\n",
    "# or even pass it in the same line\n",
    "f_can[(df_can['Continent']=='Asia') & (df_can['Region']=='Southern Asia')]"
   ]
  },
  {
   "cell_type": "code",
   "execution_count": null,
   "id": "028ad8c8-c74e-41c6-bd0c-717225e49b20",
   "metadata": {},
   "outputs": [],
   "source": [
    "# select some rows\n",
    "years = list(map(str, range(1980, 2014)))\n",
    "df_CI = df_can.loc[['China','India'], years]"
   ]
  },
  {
   "cell_type": "code",
   "execution_count": null,
   "id": "1f9649be-f95b-4f52-b197-b4eab5a4f26a",
   "metadata": {},
   "outputs": [],
   "source": [
    "# in case one needs to transpose"
   ]
  },
  {
   "cell_type": "code",
   "execution_count": null,
   "id": "0bd52c1f-d169-4f6c-b954-d79c273ef8f8",
   "metadata": {},
   "outputs": [],
   "source": [
    "df_CI = df_CI.transpose()"
   ]
  },
  {
   "cell_type": "markdown",
   "id": "4b4306e1-9630-41ed-9f89-43c4840889df",
   "metadata": {},
   "source": [
    "### Value sorting"
   ]
  },
  {
   "cell_type": "code",
   "execution_count": null,
   "id": "4b263793-e9fb-493d-992b-87be796d3f59",
   "metadata": {},
   "outputs": [],
   "source": [
    "df_can.sort_values(by='Total', ascending=True, inplace=True)"
   ]
  },
  {
   "cell_type": "markdown",
   "id": "35e4bfdf-2cee-4070-98e0-e59a3b406a6f",
   "metadata": {},
   "source": [
    "### Selecting and grouping in pandas"
   ]
  },
  {
   "cell_type": "code",
   "execution_count": null,
   "id": "e64de501-3cdb-43a9-be86-84e7b1151b93",
   "metadata": {},
   "outputs": [],
   "source": [
    "    # create a list of all years in decades 80's, 90's, and 00's\n",
    "    years_80s = list(map(str, range(1980, 1990))) \n",
    "    years_90s = list(map(str, range(1990, 2000))) \n",
    "    years_00s = list(map(str, range(2000, 2010))) \n",
    "\n",
    "    # slice the original dataframe df_can to create a series for each decade\n",
    "    df_80s = df_top15.loc[:, years_80s].sum(axis=1) \n",
    "    df_90s = df_top15.loc[:, years_90s].sum(axis=1) \n",
    "    df_00s = df_top15.loc[:, years_00s].sum(axis=1)\n",
    "\n",
    "    # merge the three series into a new data frame\n",
    "    new_df = pd.DataFrame({'1980s': df_80s, '1990s': df_90s, '2000s':df_00s}) \n",
    "\n",
    "    # display dataframe\n",
    "    new_df.head()"
   ]
  },
  {
   "cell_type": "markdown",
   "id": "e1b77aa0-67b6-404a-9e15-af4b4ef3bd07",
   "metadata": {},
   "source": [
    "### Bining many categories into fewer categories (with loop)"
   ]
  },
  {
   "cell_type": "code",
   "execution_count": null,
   "id": "a78656db-c141-466e-90ad-66283e9bbe2b",
   "metadata": {},
   "outputs": [],
   "source": [
    "new_series = []\n",
    "for index, row in df[['release_year']].iterrows():\n",
    "    x = row[0]\n",
    "    if x == 2013 or x == 2014:\n",
    "        new_series.append('2013 & 2014')\n",
    "    elif x == 2015 or x == 2016:\n",
    "        new_series.append('2015 & 2016')\n",
    "    elif x == 2017 or x == 2018:\n",
    "        new_series.append('2017 & 2018')\n",
    "    elif x == 2019 or x == 2020:\n",
    "        new_series.append('2019 & 2020')\n",
    "    else:\n",
    "        new_series.append('2021 & 2022')"
   ]
  },
  {
   "cell_type": "markdown",
   "id": "afae54bb-d3bb-401d-aa2b-33cd12485846",
   "metadata": {},
   "source": [
    "### To create a double plot and take out the class (a bit odd)"
   ]
  },
  {
   "cell_type": "code",
   "execution_count": null,
   "id": "127b1b57-ac0e-46b7-bc77-e8bc1189c98a",
   "metadata": {},
   "outputs": [],
   "source": [
    "df_used = df[['release_year','used_price']].copy()\n",
    "df_used['new_or_used'] = \"Used\"\n",
    "df_used.rename(columns={\"used_price\":'price'}, inplace=True)\n",
    "\n",
    "df_new = df[['release_year','new_price']].copy()\n",
    "df_new['new_or_used'] = \"New\"\n",
    "df_new.rename(columns={\"new_price\":'price'}, inplace=True)\n",
    "\n",
    "pd.concat([df_used, df_new])"
   ]
  },
  {
   "cell_type": "markdown",
   "id": "ca01d5ca-7a8a-457f-a537-1e6a4aeefe2c",
   "metadata": {},
   "source": []
  },
  {
   "cell_type": "code",
   "execution_count": null,
   "id": "0bedd008-356c-493e-b793-9140f95021d0",
   "metadata": {},
   "outputs": [],
   "source": []
  }
 ],
 "metadata": {
  "kernelspec": {
   "display_name": "Python 3 (ipykernel)",
   "language": "python",
   "name": "python3"
  },
  "language_info": {
   "codemirror_mode": {
    "name": "ipython",
    "version": 3
   },
   "file_extension": ".py",
   "mimetype": "text/x-python",
   "name": "python",
   "nbconvert_exporter": "python",
   "pygments_lexer": "ipython3",
   "version": "3.10.8"
  }
 },
 "nbformat": 4,
 "nbformat_minor": 5
}
