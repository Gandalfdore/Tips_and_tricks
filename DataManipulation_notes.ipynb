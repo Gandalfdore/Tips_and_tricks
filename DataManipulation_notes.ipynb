{
 "cells": [
  {
   "cell_type": "markdown",
   "id": "c8051f15-2a2e-42b1-b4f2-6ca9b8e67318",
   "metadata": {},
   "source": [
    "### Pipelining"
   ]
  },
  {
   "cell_type": "code",
   "execution_count": null,
   "id": "b87196b6-f22a-4d0b-a4b5-067658eebb0a",
   "metadata": {},
   "outputs": [],
   "source": [
    "from sklearn.pipeline import Pipeline\n",
    "from sklearn.preprocessing import StandardScaler\n",
    "\n",
    "Input=[('scale',StandardScaler()), ('polynomial', PolynomialFeatures(include_bias=False)), ('model',LinearRegression())]\n",
    "\n",
    "pipe=Pipeline(Input)\n",
    "pipe\n",
    "\n",
    "pipe.fit(Z,y)\n",
    "ypipe=pipe.predict(Z)"
   ]
  },
  {
   "cell_type": "markdown",
   "id": "d62e82f2-c4d3-45d5-b931-f53e01880f5b",
   "metadata": {},
   "source": [
    "### Calling a Support Vector Machine and feeding it values"
   ]
  },
  {
   "cell_type": "code",
   "execution_count": null,
   "id": "9f3f9a9d-d7ad-4b54-91f3-dd8dc8aea5f1",
   "metadata": {},
   "outputs": [],
   "source": [
    "from sklearn.svm import SVC\n",
    "from sklearn.model_selection import train_test_split\n",
    "\n",
    "# Taking only the features that is important for now\n",
    "# X = df_train[['Sex', 'Age']]\n",
    "X = df_train[['Sex']]\n",
    "\n",
    "# Taking the labels (Survived or Not Survived)\n",
    "Y = df_train['Survived']"
   ]
  },
  {
   "cell_type": "code",
   "execution_count": null,
   "id": "6c5c58dd-f30d-43ea-bc0b-a279530f6c14",
   "metadata": {},
   "outputs": [],
   "source": [
    "# Spliting into 80% for training set and 20% for testing set so we can see our accuracy\n",
    "X_train, x_test, Y_train, y_test = train_test_split(X, Y, test_size=0.2, random_state=0)  # maybe one should stratify it, to make it representative"
   ]
  },
  {
   "cell_type": "code",
   "execution_count": null,
   "id": "f27ef6a3-fa62-4c0d-9d60-b972217b79d6",
   "metadata": {},
   "outputs": [],
   "source": [
    "# Declaring the SVC with no tunning\n",
    "classifier = SVC()\n",
    "\n",
    "# Fitting the data. This is where the SVM will learn\n",
    "classifier.fit(X_train, Y_train)\n",
    "\n",
    "# Predicting the result and giving the accuracy\n",
    "score = classifier.score(x_test, y_test)"
   ]
  },
  {
   "cell_type": "code",
   "execution_count": null,
   "id": "1674ed33-aa76-4c1f-8949-d0f69eb2cba6",
   "metadata": {},
   "outputs": [],
   "source": [
    "print(score)"
   ]
  },
  {
   "cell_type": "markdown",
   "id": "ffb3bee2-895c-45ab-b385-1744f8f4c0c4",
   "metadata": {},
   "source": [
    "### Creating and fitting polynomial laws"
   ]
  },
  {
   "cell_type": "code",
   "execution_count": null,
   "id": "9b968397-454c-4050-81de-566474a75c29",
   "metadata": {},
   "outputs": [],
   "source": [
    "from sklearn.preprocessing import PolynomialFeatures\n",
    "\n",
    "x_train, x_test, y_train, y_test = train_test_split(x_data, y_data, test_size=0.35, random_state=0)"
   ]
  },
  {
   "cell_type": "code",
   "execution_count": null,
   "id": "2eb00b89-6e02-4f5e-9197-a01320db6496",
   "metadata": {},
   "outputs": [],
   "source": [
    "pr = PolynomialFeatures(degree=5)\n",
    "x_train_pr = pr.fit_transform(x_train[['horsepower']])\n",
    "x_test_pr = pr.fit_transform(x_test[['horsepower']])\n",
    "\n",
    "print(x_train_pr.shape)\n",
    "\n",
    "poly = LinearRegression()\n",
    "poly.fit(x_train_pr, y_train)\n",
    "\n",
    "yhat_test = poly.predict(x_test_pr)\n",
    "yhat_train = poly.predict(x_train_pr)\n",
    "\n",
    "print(\"Predicted values:\", yhat_test[0:4])\n",
    "print(\"True values:\", y_test[0:4].values)\n",
    "\n",
    "# Check the DISTRIBUTION PLOT in the Insights notebook to illustrate better the results"
   ]
  },
  {
   "cell_type": "code",
   "execution_count": null,
   "id": "664fa969-fd23-438a-8609-1213b3854630",
   "metadata": {},
   "outputs": [],
   "source": [
    "#Scoring\n",
    "poly.score(x_train_pr, y_train)"
   ]
  },
  {
   "cell_type": "code",
   "execution_count": null,
   "id": "3cfe1b88-6369-4757-8919-834ba1ad0aac",
   "metadata": {},
   "outputs": [],
   "source": [
    "poly.score(x_test_pr, y_test)"
   ]
  },
  {
   "cell_type": "markdown",
   "id": "31ca8864-4f4d-4fdb-8947-0f3c1a74d176",
   "metadata": {},
   "source": [
    "### Ridge regression"
   ]
  },
  {
   "cell_type": "code",
   "execution_count": null,
   "id": "528cbc90-c287-46bc-bc03-6890b86552ce",
   "metadata": {},
   "outputs": [],
   "source": [
    "from sklearn.linear_model import Ridge\n",
    "\n",
    "RigeModel=Ridge(alpha=1)\n",
    "RigeModel.fit(x_train_pr, y_train)\n",
    "\n",
    "#prediction\n",
    "yhat = RigeModel.predict(x_test_pr)\n",
    "score = RigeModel.score(x_test_pr,y_test)\n",
    "\n",
    "#compare the samples\n",
    "print('predicted:', yhat[0:4])\n",
    "print('test set :', y_test[0:4].values)"
   ]
  },
  {
   "cell_type": "code",
   "execution_count": null,
   "id": "38b8b71e-7b4c-47b1-92de-a26170c09ce3",
   "metadata": {},
   "outputs": [],
   "source": [
    "# code to pick the best alpha\n",
    "from tqdm import tqdm\n",
    "\n",
    "Rsqu_test = []\n",
    "Rsqu_train = []\n",
    "dummy1 = []\n",
    "Alpha = 10 * np.array(range(0,1000))\n",
    "pbar = tqdm(Alpha)\n",
    "\n",
    "for alpha in pbar:\n",
    "    RigeModel = Ridge(alpha=alpha) \n",
    "    RigeModel.fit(x_train_pr, y_train)\n",
    "    test_score, train_score = RigeModel.score(x_test_pr, y_test), RigeModel.score(x_train_pr, y_train)\n",
    "    \n",
    "    pbar.set_postfix({\"Test Score\": test_score, \"Train Score\": train_score})\n",
    "\n",
    "    Rsqu_test.append(test_score)\n",
    "    Rsqu_train.append(train_score)"
   ]
  },
  {
   "cell_type": "code",
   "execution_count": 1,
   "id": "31671d2d-0d51-4a00-b22a-02d12318cb38",
   "metadata": {},
   "outputs": [],
   "source": [
    "# to plot it"
   ]
  },
  {
   "cell_type": "code",
   "execution_count": null,
   "id": "29e984de-7a12-483f-9919-8e3bf22ec46d",
   "metadata": {},
   "outputs": [],
   "source": [
    "width = 12\n",
    "height = 10\n",
    "plt.figure(figsize=(width, height))\n",
    "\n",
    "plt.plot(Alpha,Rsqu_test, label='validation data  ')\n",
    "plt.plot(Alpha,Rsqu_train, 'r', label='training Data ')\n",
    "plt.xlabel('alpha')\n",
    "plt.ylabel('R^2')\n",
    "plt.legend()"
   ]
  },
  {
   "cell_type": "code",
   "execution_count": null,
   "id": "4f42dbbe-587e-47ce-9eea-667b76a2f05c",
   "metadata": {},
   "outputs": [],
   "source": []
  },
  {
   "cell_type": "code",
   "execution_count": null,
   "id": "121285dc-2bd1-445d-bbbb-11381ef10316",
   "metadata": {},
   "outputs": [],
   "source": []
  }
 ],
 "metadata": {
  "kernelspec": {
   "display_name": "Python 3 (ipykernel)",
   "language": "python",
   "name": "python3"
  },
  "language_info": {
   "codemirror_mode": {
    "name": "ipython",
    "version": 3
   },
   "file_extension": ".py",
   "mimetype": "text/x-python",
   "name": "python",
   "nbconvert_exporter": "python",
   "pygments_lexer": "ipython3",
   "version": "3.10.8"
  }
 },
 "nbformat": 4,
 "nbformat_minor": 5
}
