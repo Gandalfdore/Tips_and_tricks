{
 "cells": [
  {
   "cell_type": "markdown",
   "id": "09e75ed8-a038-41d8-bf9c-f4b7011f4814",
   "metadata": {},
   "source": [
    "# Functions"
   ]
  },
  {
   "cell_type": "markdown",
   "id": "e155bb33-d692-4179-b2bf-9ab3a550bd0b",
   "metadata": {},
   "source": [
    "### Mean square root measure evaluation"
   ]
  },
  {
   "cell_type": "code",
   "execution_count": null,
   "id": "4ce8a335-9068-4ed0-8f8f-257fdb42febc",
   "metadata": {},
   "outputs": [],
   "source": [
    "def eval_mse(y, yhat):\n",
    "    \"\"\" \n",
    "    Calculate the mean squared error on a data set.\n",
    "    Args:\n",
    "      y    : (ndarray  Shape (m,) or (m,1))  target value of each example\n",
    "      yhat : (ndarray  Shape (m,) or (m,1))  predicted value of each example\n",
    "    Returns:\n",
    "      err: (scalar)             \n",
    "    \"\"\"\n",
    "    m = len(y)\n",
    "    err = 0.0\n",
    "    for i in range(m):\n",
    "        err_i  = ( (yhat[i] - y[i])**2 ) \n",
    "        err   += err_i                                                                \n",
    "    err = err / (2*m) \n",
    "    \n",
    "    return(err)"
   ]
  },
  {
   "cell_type": "markdown",
   "id": "88d2a4c7-c685-4f3b-85b1-ea05626df2e1",
   "metadata": {},
   "source": [
    "### Student's and Welsh's T-tests and Mann-Whitney U-Test automatinc evaluation\n",
    "https://towardsdatascience.com/statistical-significance-testing-of-two-independent-sample-means-with-scipy-638cb834b4d1"
   ]
  },
  {
   "cell_type": "code",
   "execution_count": null,
   "id": "e1754487-1b72-4910-9b8c-9cfcd460d743",
   "metadata": {},
   "outputs": [],
   "source": [
    "from scipy.stats import levene, ttest_ind, mannwhitneyu, shapiro\n",
    "\n",
    "def check_normality(grp, alpha=0.05):\n",
    "    \"\"\"Checks whether the distribution is normal or not via the Shapiro criteria\"\"\"\n",
    "    \n",
    "    shapiro_p = shapiro(grp).pvalue\n",
    "    if shapiro_p<alpha:\n",
    "        print(f\"Sampled from non-normal distribution (p-value={shapiro_p:.4f}) => Normality assumption is not met\")\n",
    "        return False\n",
    "    else:\n",
    "        print(f\"Sampled from normal distribution (p-value={shapiro_p:.4f})  => Normality assumption is met\")\n",
    "        return True   \n",
    "\n",
    "def check_mean_significance(grp1, grp2, alpha=0.05, alternative='two-sided'):  \n",
    "    \"\"\"Performs the t-test or the u-test based on the variance and distribution of both datasets\"\"\"\n",
    "    \n",
    "    print(\"========== Checking for normality assumption for first group ==========\")\n",
    "    is_grp1_norm = check_normality(grp1, alpha=alpha)\n",
    "    \n",
    "    print(\"\\n========== Checking for normality assumption for second group ==========\")\n",
    "    is_grp2_norm = check_normality(grp2, alpha=alpha)\n",
    "        \n",
    "    if is_grp1_norm & is_grp2_norm:        \n",
    "        print(\"\\n========== Checking for equality of population variance ==========\")\n",
    "        levene_pvalue = levene(grp1, grp2).pvalue\n",
    "        if levene_pvalue < alpha:\n",
    "            print(f\"Groups have unequal variance (p-value = {levene_pvalue:.4f}) => Equal variance assumption is not met\")\n",
    "            equal_var=False\n",
    "            test = \"Welsch's t-test\"\n",
    "        else:\n",
    "            print(f\"Groups have equal variance (p-value = {levene_pvalue:.4f}) => Equal variance assumption is met\")\n",
    "            equal_var=True\n",
    "            test = \"Student's t-test\"\n",
    "\n",
    "        print(f\"\\n========== Checking for statistical significance of difference in means ({test}) ==========\")\n",
    "        t_pvalue = ttest_ind(grp1, grp2, equal_var=equal_var, alternative=alternative).pvalue\n",
    "        if t_pvalue < alpha:\n",
    "            print(f\"We reject the null hypothesis (p-value = {t_pvalue:.4f}).\")\n",
    "        else:\n",
    "            print(f\"We do not reject the null hypothesis (p-value = {t_pvalue:.4f}).\")\n",
    "\n",
    "    else:\n",
    "        print(f\"\\n========== Checking for statistical significance of difference in means (Mann-Whitney U Test) ==========\")\n",
    "        mw_pvalue = mannwhitneyu(grp1, grp2, alternative=alternative).pvalue\n",
    "        if mw_pvalue < alpha:\n",
    "            print(f\"We reject the null hypothesis (p-value = {mw_pvalue:.4f})\")\n",
    "        else:\n",
    "            print(f\"We do not reject the null hypothesis (p-value = {mw_pvalue:.4f})\")"
   ]
  },
  {
   "cell_type": "markdown",
   "id": "12c8356e-61aa-4bcc-9356-06b4d281adf0",
   "metadata": {},
   "source": [
    "### Plotting box and bar plots in parallel"
   ]
  },
  {
   "cell_type": "code",
   "execution_count": null,
   "id": "629d103e-27b2-4529-9103-e6ee2cb222a2",
   "metadata": {},
   "outputs": [],
   "source": [
    "def BoxAndBar(x_name, y_name, x_label=None, y_label=None, dataframe_name=df, dpi=120):\n",
    "    \n",
    "    if x_label == None:\n",
    "        x_label = x_name\n",
    "    if y_label == None:\n",
    "        y_label = y_name\n",
    "    \n",
    "    plt.figure(figsize=(9, 5), dpi=dpi) # width and height in inches\n",
    "    plot = sns.barplot(x=x_name, y=y_name, data=dataframe_name, errorbar = \"sd\", capsize = 0.1, estimator=np.mean)\n",
    "    plot.set_xlabel(x_label,fontsize=24)\n",
    "    plot.set_ylabel(y_label,fontsize=24)\n",
    "    plot.tick_params(labelsize=17)\n",
    "    #sns.move_legend(plot, \"lower right\")\n",
    "    plt.savefig('{0}.png'.format(y_name), transparent=True, bbox_inches='tight')\n",
    "\n",
    "    plt.figure(figsize=(6, 5), dpi=dpi) # width and height in inches\n",
    "    plot2 = sns.boxplot(x=x_name, y=y_name, data=dataframe_name)\n",
    "    plot2.set_xlabel(x_label,fontsize=22)\n",
    "    plot2.set_ylabel(y_label,fontsize=22)\n",
    "    plot2.tick_params(labelsize=17)\n",
    "    #sns.move_legend(plot, \"lower right\")\n",
    "    plt.savefig('box{0}.png'.format(y_name), transparent=True, bbox_inches='tight')\n",
    "    plt.show() "
   ]
  },
  {
   "cell_type": "markdown",
   "id": "589e34ff-b26f-4077-b47f-0a66b38362ef",
   "metadata": {},
   "source": [
    "### Plot histograms"
   ]
  },
  {
   "cell_type": "code",
   "execution_count": null,
   "id": "be94ed09-4500-4eef-a7f3-be0cfed8b7c9",
   "metadata": {},
   "outputs": [],
   "source": [
    "def makeHist (x_name, hue, x_label=None, dataframe_name=df, dpi=100):\n",
    "    \n",
    "    if x_label == None:\n",
    "        x_label = x_name\n",
    "    \n",
    "    plt.figure(figsize=(9, 6), dpi=100) # width and height in inches\n",
    "    plot = sns.kdeplot(\n",
    "       data=dataframe_name, x=x_name, hue=hue,\n",
    "       fill=True, common_norm=False, palette=\"tab10\",\n",
    "       alpha=.5, linewidth=0, warn_singular=False\n",
    "    )\n",
    "    plot.set_xlabel(x_label, fontsize=24)\n",
    "    plot.set_ylabel(\"Density\", fontsize=24)\n",
    "    plot.tick_params(labelsize=17)\n",
    "    plt.savefig(f'KDE_{x_name}.png', transparent=True, bbox_inches='tight')\n",
    "    plt.show()"
   ]
  },
  {
   "cell_type": "markdown",
   "id": "df38b976-059c-4572-9e45-1d5038da97df",
   "metadata": {},
   "source": [
    "### Confusion matrix plotter"
   ]
  },
  {
   "cell_type": "code",
   "execution_count": null,
   "id": "adeeeca3-03c0-4112-bc99-f30c462e0b16",
   "metadata": {},
   "outputs": [],
   "source": [
    "def plot_confusion_matrix(y,y_predict):\n",
    "    \"this function plots the confusion matrix\"\n",
    "    from sklearn.metrics import confusion_matrix\n",
    "\n",
    "    cm = confusion_matrix(y, y_predict)\n",
    "    ax= plt.subplot()\n",
    "    sns.heatmap(cm, annot=True, ax = ax); #annot=True to annotate cells\n",
    "    ax.set_xlabel('Predicted labels')\n",
    "    ax.set_ylabel('True labels')\n",
    "    ax.set_title('Confusion Matrix'); \n",
    "    #ax.xaxis.set_ticklabels(['did not land', 'land']); ax.yaxis.set_ticklabels(['did not land', 'landed']) \n",
    "    plt.show() "
   ]
  },
  {
   "cell_type": "markdown",
   "id": "7298676a-b676-42cf-bd1b-8ae1038a14a0",
   "metadata": {},
   "source": [
    "### Threshold iteration"
   ]
  },
  {
   "cell_type": "code",
   "execution_count": null,
   "id": "8be79bdd-bfe2-471d-9b86-23ebd68ceaf0",
   "metadata": {},
   "outputs": [],
   "source": [
    "def thresholds_tests (X_test,y_test):\n",
    "    pred_proba_df = pd.DataFrame(logreg.predict_proba(X_test))\n",
    "    threshold_list = [0.05,0.1,0.15,0.2,0.25,0.3,0.35,0.4,0.45,0.5,0.55,0.6,0.65,.7,.75,.8,.85,.9,.95,.99]\n",
    "    y_test = pd.DataFrame(y_test)\n",
    "    for i in threshold_list:\n",
    "        print ('\\n******** For i = {} ******'.format(i))\n",
    "        y_test_pred = pred_proba_df.applymap(lambda x: 1 if x>i else 0)\n",
    "        test_accuracy = accuracy_score(y_test.values.reshape(y_test.values.size,1),\n",
    "                                               y_test_pred.iloc[:,1].values.reshape(y_test_pred.iloc[:,1].values.size,1))\n",
    "        print('Our testing accuracy is {}'.format(test_accuracy))\n",
    "\n",
    "        print(confusion_matrix(y_test.values.reshape(y_test.values.size,1),\n",
    "                               y_test_pred.iloc[:,1].values.reshape(y_test_pred.iloc[:,1].values.size,1)))"
   ]
  },
  {
   "cell_type": "code",
   "execution_count": null,
   "id": "434a08d1-0267-4445-ba85-73480da33c81",
   "metadata": {},
   "outputs": [],
   "source": [
    "def manual_threshold_model(threshold_val):\n",
    "    \n",
    "    y_test_pred = pred_proba_df.applymap(lambda x: 1 if x>threshold_val else 0)\n",
    "    test_accuracy = accuracy_score(y_test.values.reshape(y_test.values.size,1),\n",
    "                                           y_test_pred.iloc[:,1].values.reshape(y_test_pred.iloc[:,1].values.size,1))\n",
    "    print('The testing accuracy is {}'.format(test_accuracy))\n",
    "    \n",
    "    y_pred = y_test_pred.iloc[:,1].values.reshape(y_test_pred.iloc[:,1].values.size,1)\n",
    "\n",
    "    return y_pred"
   ]
  },
  {
   "cell_type": "code",
   "execution_count": null,
   "id": "c020d698-1b68-4dd2-ada3-8ecf4733ac67",
   "metadata": {},
   "outputs": [],
   "source": []
  },
  {
   "cell_type": "code",
   "execution_count": null,
   "id": "16f5b2f0-4a10-4031-8e9b-a801797b3de9",
   "metadata": {},
   "outputs": [],
   "source": []
  }
 ],
 "metadata": {
  "kernelspec": {
   "display_name": "Python 3 (ipykernel)",
   "language": "python",
   "name": "python3"
  },
  "language_info": {
   "codemirror_mode": {
    "name": "ipython",
    "version": 3
   },
   "file_extension": ".py",
   "mimetype": "text/x-python",
   "name": "python",
   "nbconvert_exporter": "python",
   "pygments_lexer": "ipython3",
   "version": "3.10.8"
  }
 },
 "nbformat": 4,
 "nbformat_minor": 5
}
