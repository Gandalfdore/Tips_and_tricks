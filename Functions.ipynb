{
 "cells": [
  {
   "cell_type": "markdown",
   "id": "09e75ed8-a038-41d8-bf9c-f4b7011f4814",
   "metadata": {},
   "source": [
    "# Functions"
   ]
  },
  {
   "cell_type": "markdown",
   "id": "e155bb33-d692-4179-b2bf-9ab3a550bd0b",
   "metadata": {},
   "source": [
    "### Mean square root measure evaluation"
   ]
  },
  {
   "cell_type": "code",
   "execution_count": null,
   "id": "4ce8a335-9068-4ed0-8f8f-257fdb42febc",
   "metadata": {},
   "outputs": [],
   "source": [
    "def eval_mse(y, yhat):\n",
    "    \"\"\" \n",
    "    Calculate the mean squared error on a data set.\n",
    "    Args:\n",
    "      y    : (ndarray  Shape (m,) or (m,1))  target value of each example\n",
    "      yhat : (ndarray  Shape (m,) or (m,1))  predicted value of each example\n",
    "    Returns:\n",
    "      err: (scalar)             \n",
    "    \"\"\"\n",
    "    m = len(y)\n",
    "    err = 0.0\n",
    "    for i in range(m):\n",
    "        err_i  = ( (yhat[i] - y[i])**2 ) \n",
    "        err   += err_i                                                                \n",
    "    err = err / (2*m) \n",
    "    \n",
    "    return(err)"
   ]
  },
  {
   "cell_type": "markdown",
   "id": "88d2a4c7-c685-4f3b-85b1-ea05626df2e1",
   "metadata": {},
   "source": [
    "### Student's and Welsh's T-tests and Mann-Whitney U-Test automatinc evaluation\n",
    "https://towardsdatascience.com/statistical-significance-testing-of-two-independent-sample-means-with-scipy-638cb834b4d1"
   ]
  },
  {
   "cell_type": "code",
   "execution_count": null,
   "id": "e1754487-1b72-4910-9b8c-9cfcd460d743",
   "metadata": {},
   "outputs": [],
   "source": [
    "from scipy.stats import levene, ttest_ind, mannwhitneyu, shapiro\n",
    "\n",
    "def check_normality(grp, alpha=0.05):\n",
    "    shapiro_p = shapiro(grp).pvalue\n",
    "    if shapiro_p<alpha:\n",
    "        print(f\"Sampled from non-normal distribution (p-value={shapiro_p:.4f}) => Normality assumption is not met\")\n",
    "        return False\n",
    "    else:\n",
    "        print(f\"Sampled from normal distribution (p-value={shapiro_p:.4f})  => Normality assumption is met\")\n",
    "        return True   \n",
    "\n",
    "def check_mean_significance(grp1, grp2, alpha=0.05, alternative='two-sided'):  \n",
    "    print(\"========== Checking for normality assumption for first group ==========\")\n",
    "    is_grp1_norm = check_normality(grp1, alpha=alpha)\n",
    "    \n",
    "    print(\"\\n========== Checking for normality assumption for second group ==========\")\n",
    "    is_grp2_norm = check_normality(grp2, alpha=alpha)\n",
    "        \n",
    "    if is_grp1_norm & is_grp2_norm:        \n",
    "        print(\"\\n========== Checking for equality of population variance ==========\")\n",
    "        levene_pvalue = levene(grp1, grp2).pvalue\n",
    "        if levene_pvalue < alpha:\n",
    "            print(f\"Groups have unequal variance (p-value = {levene_pvalue:.4f}) => Equal variance assumption is not met\")\n",
    "            equal_var=False\n",
    "            test = \"Welsch's t-test\"\n",
    "        else:\n",
    "            print(f\"Groups have equal variance (p-value = {levene_pvalue:.4f}) => Equal variance assumption is met\")\n",
    "            equal_var=True\n",
    "            test = \"Student's t-test\"\n",
    "\n",
    "        print(f\"\\n========== Checking for statistical significance of difference in means ({test}) ==========\")\n",
    "        t_pvalue = ttest_ind(grp1, grp2, equal_var=equal_var, alternative=alternative).pvalue\n",
    "        if t_pvalue < alpha:\n",
    "            print(f\"We reject the null hypothesis (p-value = {t_pvalue:.4f}).\")\n",
    "        else:\n",
    "            print(f\"We do not reject the null hypothesis (p-value = {t_pvalue:.4f}).\")\n",
    "\n",
    "    else:\n",
    "        print(f\"\\n========== Checking for statistical significance of difference in means (Mann-Whitney U Test) ==========\")\n",
    "        mw_pvalue = mannwhitneyu(grp1, grp2, alternative=alternative).pvalue\n",
    "        if mw_pvalue < alpha:\n",
    "            print(f\"We reject the null hypothesis (p-value = {mw_pvalue:.4f})\")\n",
    "        else:\n",
    "            print(f\"We do not reject the null hypothesis (p-value = {mw_pvalue:.4f})\")"
   ]
  },
  {
   "cell_type": "code",
   "execution_count": null,
   "id": "c4d00c59-fab4-4421-83ce-c21a280d8271",
   "metadata": {},
   "outputs": [],
   "source": []
  }
 ],
 "metadata": {
  "kernelspec": {
   "display_name": "Python 3 (ipykernel)",
   "language": "python",
   "name": "python3"
  },
  "language_info": {
   "codemirror_mode": {
    "name": "ipython",
    "version": 3
   },
   "file_extension": ".py",
   "mimetype": "text/x-python",
   "name": "python",
   "nbconvert_exporter": "python",
   "pygments_lexer": "ipython3",
   "version": "3.10.8"
  }
 },
 "nbformat": 4,
 "nbformat_minor": 5
}
