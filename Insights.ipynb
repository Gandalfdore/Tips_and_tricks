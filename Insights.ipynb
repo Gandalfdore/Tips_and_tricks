{
 "cells": [
  {
   "cell_type": "markdown",
   "id": "1b836940-5e2d-4f49-acab-28610ca0681c",
   "metadata": {},
   "source": [
    "# Insights_from_dataframes"
   ]
  },
  {
   "cell_type": "markdown",
   "id": "03025706-64cf-4301-9252-2036e6375718",
   "metadata": {},
   "source": [
    "Some useful articles:\n",
    "\n",
    "On the matter of imbalanced datasets: https://towardsdatascience.com/handling-imbalanced-datasets-in-machine-learning-7a0e84220f28\n",
    "\n",
    "On the topic of imabalanced datasets:\n",
    "https://towardsdatascience.com/handling-imbalanced-datasets-in-machine-learning-7a0e84220f28\n",
    "\n",
    "About regplot regressions:\n",
    "https://seaborn.pydata.org/tutorial/regression.html#regression-tutorial"
   ]
  },
  {
   "cell_type": "markdown",
   "id": "c6423f16-1c29-4fe3-9ac3-1835b56a3da2",
   "metadata": {},
   "source": [
    "### Look for correlations"
   ]
  },
  {
   "cell_type": "code",
   "execution_count": null,
   "id": "37a616e9-dd64-4acd-a51a-0731fad6b2cd",
   "metadata": {},
   "outputs": [],
   "source": [
    "df.corr()\n",
    "# or\n",
    "df.corr()['price'].sort_values()"
   ]
  },
  {
   "cell_type": "markdown",
   "id": "83e1c254-860d-405f-ab69-6211e5ac1733",
   "metadata": {},
   "source": [
    "### Check statistics"
   ]
  },
  {
   "cell_type": "code",
   "execution_count": null,
   "id": "bba8d220-4205-43d7-ad79-11a97de365c1",
   "metadata": {},
   "outputs": [],
   "source": [
    "df.describe() # or df[['column1','column2', ...]].describe() ## descriptions\n",
    "df.describe(include=['object']) # if there are objects it does statistic on them as well\n",
    "df.describe(include = \"all\") # more descriptions"
   ]
  },
  {
   "cell_type": "markdown",
   "id": "ccb0b93a-242a-444f-8a76-4ccea448bdc8",
   "metadata": {},
   "source": [
    "### Variable vs Variable scatter plots check"
   ]
  },
  {
   "cell_type": "code",
   "execution_count": null,
   "id": "3e0e4551-6f53-4b70-8743-b78e076bec01",
   "metadata": {},
   "outputs": [],
   "source": [
    "attributes = [\"median_house_value\", \"median_income\", \"housing_median_age\", \"rooms_per_household\"]\n",
    "pandas.plotting.scatter_matrix(housing[attributes], figsize=(12, 8))"
   ]
  },
  {
   "cell_type": "markdown",
   "id": "f243b836-5b23-4c7a-ad5b-a1dac4aee358",
   "metadata": {},
   "source": [
    "### Grouping"
   ]
  },
  {
   "cell_type": "code",
   "execution_count": null,
   "id": "641fa427-a0a4-461e-ad5e-21e20b115c32",
   "metadata": {},
   "outputs": [],
   "source": [
    "df_group_one = df_group_one.groupby(['drive-wheels'],as_index=False).mean()  # group by a certrain column (except the last) and average by the last column"
   ]
  },
  {
   "cell_type": "markdown",
   "id": "0bdf0bef-bb9a-4a54-9474-431c58f909fc",
   "metadata": {},
   "source": [
    "### Find unique values and umber of unique values"
   ]
  },
  {
   "cell_type": "code",
   "execution_count": null,
   "id": "77c94e09-c839-4f09-b36f-b55cb09d0308",
   "metadata": {},
   "outputs": [],
   "source": [
    "df.unique()\n",
    "df.nunique()"
   ]
  },
  {
   "cell_type": "markdown",
   "id": "9304fbe0-0091-44a5-8bec-d356944c6ea5",
   "metadata": {},
   "source": [
    "### Pivoting tables (of groups)"
   ]
  },
  {
   "cell_type": "code",
   "execution_count": null,
   "id": "0681cac4-0cf5-495b-9847-72d1e7fcbe14",
   "metadata": {},
   "outputs": [],
   "source": [
    "# here we have grouping by two groups\n",
    "df_gptest = df[['drive-wheels','body-style','price']]\n",
    "grouped_test1 = df_gptest.groupby(['drive-wheels','body-style'],as_index=False).mean() \n",
    "\n",
    "# thus it will be easier to pivot the table to understand it\n",
    "grouped_pivot = grouped_test1.pivot(index='drive-wheels',columns='body-style')"
   ]
  },
  {
   "cell_type": "markdown",
   "id": "57d589b3-0d97-41ba-9ff6-502ad54e04d1",
   "metadata": {},
   "source": [
    "### Color-code plot of the pivot table "
   ]
  },
  {
   "cell_type": "code",
   "execution_count": null,
   "id": "36ce187a-99e3-44fc-b605-4a081018bf1e",
   "metadata": {},
   "outputs": [],
   "source": []
  },
  {
   "cell_type": "markdown",
   "id": "6f7b4e08-0cdb-4191-b75a-711dfc6ba176",
   "metadata": {},
   "source": []
  },
  {
   "cell_type": "code",
   "execution_count": null,
   "id": "366bc931-8436-45f6-9cfa-67711da5021b",
   "metadata": {},
   "outputs": [],
   "source": [
    "plt.pcolor(grouped_pivot, cmap='RdBu')\n",
    "plt.colorbar()\n",
    "plt.show()\n",
    "\n",
    "### and now plot it nicely ###\n",
    "fig, ax = plt.subplots()\n",
    "im = ax.pcolor(grouped_pivot, cmap='RdBu')\n",
    "\n",
    "#label names\n",
    "row_labels = grouped_pivot.columns.levels[1]\n",
    "col_labels = grouped_pivot.index\n",
    "\n",
    "#move ticks and labels to the center\n",
    "ax.set_xticks(np.arange(grouped_pivot.shape[1]) + 0.5, minor=False)\n",
    "ax.set_yticks(np.arange(grouped_pivot.shape[0]) + 0.5, minor=False)\n",
    "\n",
    "#insert labels\n",
    "ax.set_xticklabels(row_labels, minor=False)\n",
    "ax.set_yticklabels(col_labels, minor=False)\n",
    "\n",
    "#rotate label if too long\n",
    "plt.xticks(rotation=90)\n",
    "\n",
    "fig.colorbar(im)\n",
    "plt.show()"
   ]
  },
  {
   "cell_type": "markdown",
   "id": "ecd914c8-79ed-47f6-ab17-cb776a9b988b",
   "metadata": {},
   "source": [
    "### Pearson coefficient"
   ]
  },
  {
   "cell_type": "code",
   "execution_count": null,
   "id": "eb45c4d7-1670-4486-a439-73e3c5137e2c",
   "metadata": {},
   "outputs": [],
   "source": [
    "pearson_coef, p_value = stats.pearsonr(df['wheel-base'], df['price'])\n",
    "print(\"The Pearson Correlation Coefficient is\", pearson_coef, \" with a P-value of P =\", p_value)  "
   ]
  },
  {
   "cell_type": "markdown",
   "id": "37c29c74-3a8d-41ad-b8eb-78897008b155",
   "metadata": {},
   "source": [
    "##### **Important note:** \n",
    "Correlation coefficient tells you wheter there exist a linear relationship between 2 variables (>0,5 or 0,7 tends to show acceptable liner relationship). \n",
    "\n",
    "While he p-value is a measure of the trust-worthiness of this hyphotesis"
   ]
  },
  {
   "cell_type": "markdown",
   "id": "f66ba67e-a135-4c49-95e6-68b0d79fff90",
   "metadata": {},
   "source": [
    "### The ANOVA test"
   ]
  },
  {
   "cell_type": "code",
   "execution_count": null,
   "id": "e2738d13-a651-4209-b375-9a777408c7e4",
   "metadata": {},
   "outputs": [],
   "source": [
    "# drive-wheels is 3 kinds of objects (categorical var) and price is a continuous numerical value (float)\n",
    "grouped_test2=df[['drive-wheels', 'price']].groupby(['drive-wheels'])\n",
    "\n",
    "f_val, p_val = stats.f_oneway(grouped_test2.get_group('fwd')['price'], grouped_test2.get_group('rwd')['price'], grouped_test2.get_group('4wd')['price'])  \n",
    "print( \"ANOVA results: F=\", f_val, \", P =\", p_val)   "
   ]
  },
  {
   "cell_type": "markdown",
   "id": "67c57aad-cd45-4c98-bdb8-6fca6783ca50",
   "metadata": {
    "tags": []
   },
   "source": [
    "### Plotting and comparing distributions"
   ]
  },
  {
   "cell_type": "code",
   "execution_count": null,
   "id": "b2532e9f-a6ae-4b52-8b47-4b3d7ef013b3",
   "metadata": {},
   "outputs": [],
   "source": [
    "def DistributionPlot(RedFunction, BlueFunction, RedName, BlueName, Title):\n",
    "    width = 12\n",
    "    height = 10\n",
    "    plt.figure(figsize=(width, height))\n",
    "\n",
    "    ax1 = sns.distplot(RedFunction, hist=False, color=\"r\", label=RedName)\n",
    "    ax2 = sns.distplot(BlueFunction, hist=False, color=\"b\", label=BlueName, ax=ax1)\n",
    "\n",
    "    plt.title(Title)\n",
    "    plt.xlabel('Price (in dollars)')\n",
    "    plt.ylabel('Proportion of Cars')\n",
    "\n",
    "    plt.show()\n",
    "    plt.close()"
   ]
  },
  {
   "cell_type": "code",
   "execution_count": null,
   "id": "223397ef-4f48-4e8f-b47e-d7a92b5a3db2",
   "metadata": {},
   "outputs": [],
   "source": [
    "# show the distribution of the experimental vs the TRAIN set\n",
    "Title = 'Distribution  Plot of  Predicted Value Using Training Data vs Training Data Distribution'\n",
    "DistributionPlot(y_train, yhat_train, \"Actual Values (Train)\", \"Predicted Values (Train)\", Title)"
   ]
  },
  {
   "cell_type": "code",
   "execution_count": null,
   "id": "12df39a2-77e8-4129-af03-7e0e9d4f6407",
   "metadata": {},
   "outputs": [],
   "source": [
    "# show the distribution of the experimental vs the TEST set\n",
    "Title='Distribution  Plot of  Predicted Value Using Test Data vs Data Distribution of Test Data'\n",
    "DistributionPlot(y_test,yhat_test,\"Actual Values (Test)\",\"Predicted Values (Test)\",Title)"
   ]
  },
  {
   "cell_type": "markdown",
   "id": "63325361-5734-4b6d-8816-ea862db7f62c",
   "metadata": {},
   "source": []
  },
  {
   "cell_type": "code",
   "execution_count": null,
   "id": "75a6cd79-a4ac-4f9b-ab76-5f60700a90c2",
   "metadata": {},
   "outputs": [],
   "source": []
  }
 ],
 "metadata": {
  "kernelspec": {
   "display_name": "Python 3 (ipykernel)",
   "language": "python",
   "name": "python3"
  },
  "language_info": {
   "codemirror_mode": {
    "name": "ipython",
    "version": 3
   },
   "file_extension": ".py",
   "mimetype": "text/x-python",
   "name": "python",
   "nbconvert_exporter": "python",
   "pygments_lexer": "ipython3",
   "version": "3.10.8"
  }
 },
 "nbformat": 4,
 "nbformat_minor": 5
}
