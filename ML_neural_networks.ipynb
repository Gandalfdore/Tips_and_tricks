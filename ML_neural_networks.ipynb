{
 "cells": [
  {
   "cell_type": "markdown",
   "id": "55305c82-0fc7-442f-8314-1ded525c4ab9",
   "metadata": {},
   "source": [
    "## Neural networks vs Decision trees"
   ]
  },
  {
   "cell_type": "markdown",
   "id": "f94a439b-c7f3-490c-a602-adb3397bf53f",
   "metadata": {},
   "source": [
    "### Decision trees and tree ensembles\n",
    "\n",
    "* Work well on tabular (structured) data\n",
    "* Don't work well one unstructured data (images, text, sound)\n",
    "* Fast\n",
    "* Small decision trees can be human interpretable\n",
    "\n",
    "### Neural networks\n",
    "\n",
    "* Work well on all types of data (structured and unstructured)\n",
    "* Works with transfer learning \n",
    "* Maybe slower then Decision tree\n",
    "* When building multiple models that have to work together, it is often easier to implement them all with Neural Networks (rather then Decision Trees + Neural Networks)"
   ]
  },
  {
   "cell_type": "code",
   "execution_count": null,
   "id": "8c717fa1-afe5-436d-91f0-ff6194927f05",
   "metadata": {},
   "outputs": [],
   "source": []
  },
  {
   "cell_type": "code",
   "execution_count": null,
   "id": "94de7fba-4be6-4687-a393-e21551f61f81",
   "metadata": {},
   "outputs": [],
   "source": []
  },
  {
   "cell_type": "markdown",
   "id": "53a5fd1f-52cd-4b16-8892-91086e7f0914",
   "metadata": {},
   "source": [
    "## Neural Network - basic - with TensorFlow"
   ]
  },
  {
   "cell_type": "code",
   "execution_count": null,
   "id": "354ed13b-784f-49af-b223-94e3ec39673e",
   "metadata": {},
   "outputs": [],
   "source": [
    "Xt = np.tile(Xn,(1000,1))\n",
    "Yt= np.tile(Y,(1000,1))   \n",
    "print(Xt.shape, Yt.shape) "
   ]
  },
  {
   "cell_type": "code",
   "execution_count": null,
   "id": "94bb10d6-a86b-4dd3-a27e-081b7bedb4a2",
   "metadata": {},
   "outputs": [],
   "source": [
    "tf.random.set_seed(1234)  # applied to achieve consistent results\n",
    "model = Sequential(\n",
    "    [\n",
    "        tf.keras.Input(shape=(2,)),\n",
    "        Dense(3, activation='sigmoid', name = 'layer1'),\n",
    "        Dense(1, activation='sigmoid', name = 'layer2')\n",
    "     ]\n",
    ")"
   ]
  },
  {
   "cell_type": "code",
   "execution_count": null,
   "id": "647c7abe-1b39-4c2c-86b2-a74f77a45020",
   "metadata": {},
   "outputs": [],
   "source": [
    "model.summary()"
   ]
  },
  {
   "cell_type": "code",
   "execution_count": null,
   "id": "c6a9ae22-d88e-48c1-b82b-e2debd3f55d7",
   "metadata": {},
   "outputs": [],
   "source": [
    "W1, b1 = model.get_layer(\"layer1\").get_weights()\n",
    "W2, b2 = model.get_layer(\"layer2\").get_weights()\n",
    "print(f\"W1{W1.shape}:\\n\", W1, f\"\\nb1{b1.shape}:\", b1)\n",
    "print(f\"W2{W2.shape}:\\n\", W2, f\"\\nb2{b2.shape}:\", b2)"
   ]
  },
  {
   "cell_type": "code",
   "execution_count": null,
   "id": "211d0da0-9792-434d-8c7b-22f55cab40bb",
   "metadata": {},
   "outputs": [],
   "source": [
    "model.compile(\n",
    "    loss = tf.keras.losses.BinaryCrossentropy(),\n",
    "    optimizer = tf.keras.optimizers.Adam(learning_rate=0.01),\n",
    ")\n",
    "\n",
    "model.fit(\n",
    "    Xt,Yt,            \n",
    "    epochs=10,\n",
    ")"
   ]
  },
  {
   "cell_type": "code",
   "execution_count": null,
   "id": "c35b695c-1e5f-4fa7-8c05-cea243884664",
   "metadata": {},
   "outputs": [],
   "source": [
    "# updatae the weights\n",
    "W1, b1 = model.get_layer(\"layer1\").get_weights()\n",
    "W2, b2 = model.get_layer(\"layer2\").get_weights()\n",
    "print(\"W1:\\n\", W1, \"\\nb1:\", b1)\n",
    "print(\"W2:\\n\", W2, \"\\nb2:\", b2)"
   ]
  },
  {
   "cell_type": "code",
   "execution_count": null,
   "id": "f2ab64f2-44df-4917-9827-80e1a0a6ef26",
   "metadata": {},
   "outputs": [],
   "source": [
    "X_test = np.array([\n",
    "    [200,13.9],  # postive example\n",
    "    [200,17]])   # negative example\n",
    "X_testn = norm_l(X_test)\n",
    "predictions = model.predict(X_testn)\n",
    "print(\"predictions = \\n\", predictions)"
   ]
  },
  {
   "cell_type": "code",
   "execution_count": null,
   "id": "dcc991bb-dbaa-442a-bde0-296e930075bd",
   "metadata": {},
   "outputs": [],
   "source": [
    "yhat = np.zeros_like(predictions)\n",
    "for i in range(len(predictions)):\n",
    "    if predictions[i] >= 0.5:\n",
    "        yhat[i] = 1\n",
    "    else:\n",
    "        yhat[i] = 0\n",
    "print(f\"decisions = \\n{yhat}\")\n",
    "\n",
    "# or simply\n",
    "yhat = (predictions >= 0.5).astype(int)\n",
    "print(f\"decisions = \\n{yhat}\")"
   ]
  },
  {
   "cell_type": "code",
   "execution_count": null,
   "id": "9e705b7e-609b-46ef-98e0-7f96eddce95f",
   "metadata": {},
   "outputs": [],
   "source": [
    "plt_layer(X,Y.reshape(-1,),W1,b1,norm_l)"
   ]
  },
  {
   "cell_type": "code",
   "execution_count": null,
   "id": "15d16dbb-4f37-4bbf-a63e-9b0a592baad0",
   "metadata": {},
   "outputs": [],
   "source": [
    "plt_output_unit(W2,b2)"
   ]
  },
  {
   "cell_type": "code",
   "execution_count": null,
   "id": "ae438e4e-502c-4c97-80e4-816fad7c868c",
   "metadata": {},
   "outputs": [],
   "source": []
  }
 ],
 "metadata": {
  "kernelspec": {
   "display_name": "Python 3 (ipykernel)",
   "language": "python",
   "name": "python3"
  },
  "language_info": {
   "codemirror_mode": {
    "name": "ipython",
    "version": 3
   },
   "file_extension": ".py",
   "mimetype": "text/x-python",
   "name": "python",
   "nbconvert_exporter": "python",
   "pygments_lexer": "ipython3",
   "version": "3.10.8"
  }
 },
 "nbformat": 4,
 "nbformat_minor": 5
}
