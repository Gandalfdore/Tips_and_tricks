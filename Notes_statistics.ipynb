{
 "cells": [
  {
   "cell_type": "markdown",
   "id": "bdd29909-218c-4481-9e2f-0c48ae1d73ca",
   "metadata": {},
   "source": [
    "#### Examples of statistical tenchiques from https://sandra-maria-machon.medium.com/6-statistical-terms-i-wish-i-knew-before-starting-my-first-data-science-job-5c454991ac1c"
   ]
  },
  {
   "cell_type": "markdown",
   "id": "1759a9ed-6cbb-46aa-9574-1a1b8a99a68c",
   "metadata": {},
   "source": [
    "## Bootstrap example"
   ]
  },
  {
   "cell_type": "code",
   "execution_count": 9,
   "id": "b53ba3f5-be85-475c-9d31-ac48b35b0e05",
   "metadata": {},
   "outputs": [
    {
     "name": "stdout",
     "output_type": "stream",
     "text": [
      "The mean is numbers    4.5\n",
      "dtype: float64\n",
      "The 95% confidence interval is [2.875, 6.125]\n"
     ]
    },
    {
     "name": "stderr",
     "output_type": "stream",
     "text": [
      "C:\\Users\\Smelly_Giraffe\\.conda\\envs\\DataWorksEnv\\lib\\site-packages\\numpy\\core\\fromnumeric.py:3462: FutureWarning: In a future version, DataFrame.mean(axis=None) will return a scalar mean over the entire DataFrame. To retain the old behavior, use 'frame.mean(axis=0)' or just 'frame.mean()'\n",
      "  return mean(axis=axis, dtype=dtype, out=out, **kwargs)\n"
     ]
    }
   ],
   "source": [
    "import pandas as pd\n",
    "import numpy as np\n",
    "\n",
    "#Load Dataset (here we're crerating a sample dataframe)\n",
    "df = pd.DataFrame({'numbers': [1, 2, 3, 4, 5, 6, 7, 8]})\n",
    "\n",
    "# We define a function to compute the mean of a dataset\n",
    "def mean_func(data):\n",
    "    return np.mean(data, axis=0)\n",
    "\n",
    "# We set the number of bootstrap samples to 1000\n",
    "n_bootstrap = 1000\n",
    "\n",
    "#We generate bootstrap samples \n",
    "#by randomly selecting rows from \n",
    "#the original dataset with \n",
    "#replacement using the sample function\n",
    "\n",
    "bootstrap_samples = []\n",
    "for i in range(n_bootstrap):\n",
    "    sample = df.sample(frac=1, replace=True)\n",
    "    bootstrap_samples.append(sample)\n",
    "\n",
    "# Compute means for each bootstrap sample\n",
    "bootstrap_means = []\n",
    "for sample in bootstrap_samples:\n",
    "    mean = mean_func(sample)\n",
    "    bootstrap_means.append(mean)\n",
    "\n",
    "# Compute the 95% confidence interval \n",
    "# by calculating the 2.5th and 97.5th percentiles\n",
    "\n",
    "alpha = 0.05\n",
    "lower = np.percentile(bootstrap_means, alpha/2 * 100)\n",
    "upper = np.percentile(bootstrap_means, (1 - alpha/2) * 100)\n",
    "\n",
    "print(f\"The mean is {np.mean(df)}\")\n",
    "print(f\"The 95% confidence interval is [{lower}, {upper}]\")"
   ]
  },
  {
   "cell_type": "markdown",
   "id": "c127572b-df9c-4456-9df5-be9ef37dac46",
   "metadata": {},
   "source": [
    "## Student's T test"
   ]
  },
  {
   "cell_type": "code",
   "execution_count": null,
   "id": "2a3827ec-5103-4f03-a9f8-464900a113ff",
   "metadata": {},
   "outputs": [],
   "source": [
    "import pandas as pd\n",
    "from scipy.stats import ttest_ind\n",
    "\n",
    "# Load data into two separate dataframes\n",
    "df1 = pd.read_csv('group1.csv')\n",
    "df2 = pd.read_csv('group2.csv')\n",
    "\n",
    "# Perform t-test\n",
    "# using the ttest_ind function from the scipy.stats library\n",
    "# The function returns the t-statistic and p-value of the test. \n",
    "t_stat, p_value = ttest_ind(df1['variable'], df2['variable'])\n",
    "\n",
    "# Print results\n",
    "print(f\"t-statistic = {t_stat}\")\n",
    "print(f\"p-value = {p_value}\")\n",
    "\n",
    "if p_value < 0.05:\n",
    "    print(\"The means of the two groups are significantly different.\")\n",
    "else:\n",
    "    print(\"There is no significant difference between the means of the two groups.\")"
   ]
  },
  {
   "cell_type": "markdown",
   "id": "84c7def2-4e42-4b65-95e6-8b76a54db24d",
   "metadata": {},
   "source": [
    "## Cohen's D (for size effect or realationships between two groups)"
   ]
  },
  {
   "cell_type": "code",
   "execution_count": null,
   "id": "25a60e80-6d7b-41af-8759-e41c93af1a6c",
   "metadata": {},
   "outputs": [],
   "source": [
    "import scipy.stats as stats\n",
    "import numpy as np\n",
    "\n",
    "# Create two groups of data\n",
    "group1 = np.random.normal(10, 2, size=100)\n",
    "group2 = np.random.normal(12, 2, size=100)\n",
    "\n",
    "# Calculate Cohen's d\n",
    "# which is the difference between the means \n",
    "# of the two groups divided by the pooled standard deviation. \n",
    "diff = group1.mean() - group2.mean()\n",
    "pooled_std = np.sqrt((group1.std()**2 + group2.std()**2) / 2)\n",
    "d = diff / pooled_std\n",
    "\n",
    "# Print the results\n",
    "print(f\"Cohen's d: {d}\")"
   ]
  },
  {
   "cell_type": "markdown",
   "id": "67aef509-41c9-437e-ae54-439352c21319",
   "metadata": {},
   "source": [
    "## Confidence interval (with **statsmodels**)"
   ]
  },
  {
   "cell_type": "code",
   "execution_count": null,
   "id": "cd9cad94-d260-4adf-820d-f8cd97d35c5f",
   "metadata": {},
   "outputs": [],
   "source": [
    "import numpy as np\n",
    "import statsmodels.stats.api as sms\n",
    "\n",
    "# Example data\n",
    "data = np.array([2, 4, 6, 8, 10])\n",
    "\n",
    "\n",
    "# Calculate 95% confidence interval for the mean\n",
    "# The default level of confidence is 95%. \n",
    "ci = sms.DescrStatsW(data).tconfint_mean()\n",
    "\n",
    "# Print the confidence interval\n",
    "# The tconfint_mean function returns a tuple \n",
    "# containing the lower and upper bounds of the confidence interval.\n",
    "print(\"95% Confidence interval:\", ci)"
   ]
  },
  {
   "cell_type": "markdown",
   "id": "b19f9ec8-1638-482f-ae98-8a9dd3b696cb",
   "metadata": {},
   "source": [
    "## Power analysis"
   ]
  },
  {
   "cell_type": "code",
   "execution_count": null,
   "id": "b90f8d99-c64f-4c7c-b9ca-07a5e7844487",
   "metadata": {},
   "outputs": [],
   "source": [
    "import statsmodels.stats.power as smp\n",
    "\n",
    "# Set the parameters\n",
    "effect_size = 0.5\n",
    "alpha = 0.05 #or the p value\n",
    "power = 0.8 #desired power level for the study\n",
    "\n",
    "# Perform power analysis\n",
    "# using statsmodel function\n",
    "# passing in the effect size, alpha level, and power level \n",
    "nobs = smp.tt_ind_solve_power(effect_size=effect_size, alpha=alpha, power=power)\n",
    "\n",
    "# Print the results\n",
    "# which in this case would be \n",
    "# the sample size required to detect a medium-sized effect\n",
    "print(f\"Sample size required: {nobs}\")"
   ]
  },
  {
   "cell_type": "markdown",
   "id": "3bf98f14-38a4-49b4-a788-c43e660c0272",
   "metadata": {},
   "source": [
    "## Cental limit theorem"
   ]
  },
  {
   "cell_type": "code",
   "execution_count": null,
   "id": "2865de2b-a726-4bfe-96a0-39cc954c7081",
   "metadata": {},
   "outputs": [],
   "source": [
    "import numpy as np\n",
    "import matplotlib.pyplot as plt\n",
    "\n",
    "\n",
    "# Generate a non-normal population distribution\n",
    "pop = np.random.uniform(0, 1, size=10000)\n",
    "\n",
    "# Calculate the means of many random samples\n",
    "# and store the sample means in a list\n",
    "sample_means = []\n",
    "for i in range(1000):\n",
    "    sample = np.random.choice(pop, size=100)\n",
    "    sample_mean = np.mean(sample)\n",
    "    sample_means.append(sample_mean)\n",
    "\n",
    "# Plot the distribution of sample means\n",
    "plt.hist(sample_means, bins=30, density=True)\n",
    "plt.xlabel(\"Sample mean\")\n",
    "plt.ylabel(\"Density\")\n",
    "plt.title(\"Central Limit Theorem\")\n",
    "plt.show()"
   ]
  },
  {
   "cell_type": "markdown",
   "id": "a73335c4-c126-43a2-bcc0-5ab0febf5ee4",
   "metadata": {},
   "source": [
    "# Examples from the Cursera course on 'Data analysis with python'"
   ]
  },
  {
   "cell_type": "markdown",
   "id": "db389cc5-fd95-4bbd-baa1-d4748a4238c8",
   "metadata": {},
   "source": [
    "### Trying out different degrees of polynomial law for a fit\n",
    "And comparing their R^2 values"
   ]
  },
  {
   "cell_type": "code",
   "execution_count": null,
   "id": "ea856c49-15c4-492b-904b-5399040183e7",
   "metadata": {},
   "outputs": [],
   "source": [
    "Rsqu_test = []\n",
    "\n",
    "order = [1, 2, 3, 4]\n",
    "for n in order:\n",
    "    pr = PolynomialFeatures(degree=n)\n",
    "    \n",
    "    x_train_pr = pr.fit_transform(x_train[['horsepower']])\n",
    "    \n",
    "    x_test_pr = pr.fit_transform(x_test[['horsepower']])    \n",
    "    \n",
    "    lr.fit(x_train_pr, y_train)\n",
    "    \n",
    "    Rsqu_test.append(lr.score(x_test_pr, y_test))\n",
    "\n",
    "plt.plot(order, Rsqu_test)\n",
    "plt.xlabel('order')\n",
    "plt.ylabel('R^2')\n",
    "plt.title('R^2 Using Test Data')\n",
    "plt.text(3, 0.75, 'Maximum R^2 ')    "
   ]
  },
  {
   "cell_type": "markdown",
   "id": "fec98047-1149-4a9f-a23a-f80cdcf9b52f",
   "metadata": {},
   "source": []
  },
  {
   "cell_type": "code",
   "execution_count": null,
   "id": "a36b934c-49c7-4e17-aa97-1317f6e28bc7",
   "metadata": {},
   "outputs": [],
   "source": []
  }
 ],
 "metadata": {
  "kernelspec": {
   "display_name": "Python 3 (ipykernel)",
   "language": "python",
   "name": "python3"
  },
  "language_info": {
   "codemirror_mode": {
    "name": "ipython",
    "version": 3
   },
   "file_extension": ".py",
   "mimetype": "text/x-python",
   "name": "python",
   "nbconvert_exporter": "python",
   "pygments_lexer": "ipython3",
   "version": "3.10.8"
  }
 },
 "nbformat": 4,
 "nbformat_minor": 5
}
