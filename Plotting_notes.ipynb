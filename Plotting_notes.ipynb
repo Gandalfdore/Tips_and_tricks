{
 "cells": [
  {
   "cell_type": "code",
   "execution_count": 2,
   "id": "678ddf2b-fb91-4dea-a2b1-d04e380e0cd7",
   "metadata": {},
   "outputs": [],
   "source": [
    "#used https://medium.com/ironhack/data-visualization-con-pandas-y-seaborn-1044906af34f as source"
   ]
  },
  {
   "cell_type": "markdown",
   "id": "d42faba5-5002-4d77-942e-4a80620cb7fa",
   "metadata": {},
   "source": [
    "# Double barplots (allows to see possible patters in subgroups)"
   ]
  },
  {
   "cell_type": "markdown",
   "id": "13b9ca04-567e-40b7-9555-274134dda905",
   "metadata": {},
   "source": [
    "@ few nice artciles about seaborn plots https://pythonbasics.org/seaborn-barplot/ ,  https://seaborn.pydata.org/generated/seaborn.barplot.html"
   ]
  },
  {
   "cell_type": "code",
   "execution_count": null,
   "id": "fbdb4288-0b89-4f52-834c-711b15394c09",
   "metadata": {},
   "outputs": [],
   "source": [
    "sns.barplot(x='Food', y='Age', hue='Gender', data=df, estimator=np.median)      "
   ]
  },
  {
   "cell_type": "code",
   "execution_count": null,
   "id": "23e68d0c-87dd-4397-bd97-7ab426d47028",
   "metadata": {},
   "outputs": [],
   "source": [
    "sns.countplot(x = 'class', hue = 'sex', data = titanic, palette = 'magma')  #### for nice counplots\n",
    "plt.title('Survivors')\n",
    "plt.show()"
   ]
  },
  {
   "cell_type": "code",
   "execution_count": null,
   "id": "2dcc7473-05ef-416e-b6df-668a1616cdf4",
   "metadata": {},
   "outputs": [],
   "source": [
    "sns.barplot(x = 'class', y = 'survived', hue = 'sex', data = titanic,  #### for nice barplots\n",
    "            palette = 'magma',  \n",
    "            capsize = 0.05,                       \n",
    "            )"
   ]
  },
  {
   "cell_type": "markdown",
   "id": "67fdcd3b-1267-4e13-8987-5de65ce705ce",
   "metadata": {},
   "source": [
    "# Histograms and kernal density plots (to get a good idea about the overall distribution)"
   ]
  },
  {
   "cell_type": "code",
   "execution_count": null,
   "id": "a73fdcb6-1fa1-4045-9a3a-2bf0aff5f9b6",
   "metadata": {},
   "outputs": [],
   "source": [
    "sns.distplot(df['Age'])"
   ]
  },
  {
   "cell_type": "code",
   "execution_count": null,
   "id": "d28964d2-dd5c-45dc-8a61-fa716ffd728d",
   "metadata": {},
   "outputs": [],
   "source": [
    "sns.kdeplot(data=df['Age'], shade=True)"
   ]
  },
  {
   "cell_type": "markdown",
   "id": "8bf69c21-5f98-437f-9792-3fd83fce2775",
   "metadata": {},
   "source": [
    "# Box plots and violin plots (useful for dispplaying errors and devaitions)"
   ]
  },
  {
   "cell_type": "code",
   "execution_count": null,
   "id": "c14e31f2-933c-48db-ba26-04d81bbb502c",
   "metadata": {},
   "outputs": [],
   "source": [
    "sns.boxplot(data=df, x='Food', y='Age')"
   ]
  },
  {
   "cell_type": "code",
   "execution_count": null,
   "id": "6625a1a9-f42c-482b-8847-a96c052b6abe",
   "metadata": {},
   "outputs": [],
   "source": [
    "sns.violinplot(data=df, x='Gender', y='Age')"
   ]
  },
  {
   "cell_type": "markdown",
   "id": "36469785-20c5-4467-804b-b4e418f432db",
   "metadata": {},
   "source": [
    "# Catplots and scatterplots (good for looking for correlation with categorical variables)"
   ]
  },
  {
   "cell_type": "code",
   "execution_count": null,
   "id": "59875039-d247-4f15-ac80-bc96cbea15e6",
   "metadata": {},
   "outputs": [],
   "source": [
    "sns.catplot(x='Day', y='Age', hue='Gender', kind=\"swarm\", data=df)"
   ]
  },
  {
   "cell_type": "code",
   "execution_count": null,
   "id": "44aa1b8a-f041-427f-b374-c1c1fcc7b7bc",
   "metadata": {},
   "outputs": [],
   "source": [
    "sns.scatterplot(x='Day', y='Age', hue='Gender', kind=\"swarm\", data=df)"
   ]
  }
 ],
 "metadata": {
  "kernelspec": {
   "display_name": "Python 3 (ipykernel)",
   "language": "python",
   "name": "python3"
  },
  "language_info": {
   "codemirror_mode": {
    "name": "ipython",
    "version": 3
   },
   "file_extension": ".py",
   "mimetype": "text/x-python",
   "name": "python",
   "nbconvert_exporter": "python",
   "pygments_lexer": "ipython3",
   "version": "3.10.8"
  }
 },
 "nbformat": 4,
 "nbformat_minor": 5
}
