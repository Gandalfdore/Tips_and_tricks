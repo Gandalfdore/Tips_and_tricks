{
 "cells": [
  {
   "cell_type": "markdown",
   "id": "1ccbf960-ac3b-487f-92a5-dda9959617c0",
   "metadata": {},
   "source": [
    "Some sources: \n",
    "\n",
    "Plots: https://medium.com/ironhack/data-visualization-con-pandas-y-seaborn-1044906af34f \n",
    "\n",
    "Barplots: https://towardsdatascience.com/bar-plots-best-practices-and-issues-30f1ad32c68f"
   ]
  },
  {
   "cell_type": "markdown",
   "id": "d42faba5-5002-4d77-942e-4a80620cb7fa",
   "metadata": {},
   "source": [
    "# Double barplots (allows to see possible patterns in subgroups)"
   ]
  },
  {
   "cell_type": "markdown",
   "id": "13b9ca04-567e-40b7-9555-274134dda905",
   "metadata": {},
   "source": [
    "@ few nice artciles about seaborn plots https://pythonbasics.org/seaborn-barplot/ ,  https://seaborn.pydata.org/generated/seaborn.barplot.html"
   ]
  },
  {
   "cell_type": "code",
   "execution_count": null,
   "id": "fbdb4288-0b89-4f52-834c-711b15394c09",
   "metadata": {},
   "outputs": [],
   "source": [
    "sns.barplot(x='Food', y='Age', hue='Gender', data=df, estimator=np.median)   \n",
    "# or\n",
    "sns.barplot(x='Food', y='Age', hue='Gender', data=df, errorbar = \"sd\", capsize = 0.1, estimator=np.mean)"
   ]
  },
  {
   "cell_type": "code",
   "execution_count": null,
   "id": "23e68d0c-87dd-4397-bd97-7ab426d47028",
   "metadata": {},
   "outputs": [],
   "source": [
    "sns.countplot(x = 'class', hue = 'sex', data = titanic, palette = 'magma')  #### for nice counplots\n",
    "plt.title('Survivors')\n",
    "plt.show()"
   ]
  },
  {
   "cell_type": "code",
   "execution_count": null,
   "id": "2dcc7473-05ef-416e-b6df-668a1616cdf4",
   "metadata": {},
   "outputs": [],
   "source": [
    "sns.barplot(x = 'class', y = 'survived', hue = 'sex', data = titanic,  #### for nice barplots\n",
    "            palette = 'magma',  \n",
    "            capsize = 0.05,                       \n",
    "            )"
   ]
  },
  {
   "cell_type": "markdown",
   "id": "67fdcd3b-1267-4e13-8987-5de65ce705ce",
   "metadata": {},
   "source": [
    "# Histograms and kernal density plots (to get a good idea about the overall distribution)"
   ]
  },
  {
   "cell_type": "code",
   "execution_count": null,
   "id": "a73fdcb6-1fa1-4045-9a3a-2bf0aff5f9b6",
   "metadata": {},
   "outputs": [],
   "source": [
    "sns.distplot(df['Age'])"
   ]
  },
  {
   "cell_type": "code",
   "execution_count": null,
   "id": "d28964d2-dd5c-45dc-8a61-fa716ffd728d",
   "metadata": {},
   "outputs": [],
   "source": [
    "sns.kdeplot(data=df['Age'], shade=True)"
   ]
  },
  {
   "cell_type": "markdown",
   "id": "8bf69c21-5f98-437f-9792-3fd83fce2775",
   "metadata": {},
   "source": [
    "# Box plots and violin plots (useful for dispplaying errors and devaitions)"
   ]
  },
  {
   "cell_type": "code",
   "execution_count": null,
   "id": "c14e31f2-933c-48db-ba26-04d81bbb502c",
   "metadata": {},
   "outputs": [],
   "source": [
    "sns.boxplot(data=df, x='Food', y='Age')"
   ]
  },
  {
   "cell_type": "code",
   "execution_count": null,
   "id": "6625a1a9-f42c-482b-8847-a96c052b6abe",
   "metadata": {},
   "outputs": [],
   "source": [
    "sns.violinplot(data=df, x='Gender', y='Age')"
   ]
  },
  {
   "cell_type": "markdown",
   "id": "36469785-20c5-4467-804b-b4e418f432db",
   "metadata": {},
   "source": [
    "# Catplots and scatterplots (good for looking for correlation with categorical variables)"
   ]
  },
  {
   "cell_type": "code",
   "execution_count": null,
   "id": "59875039-d247-4f15-ac80-bc96cbea15e6",
   "metadata": {},
   "outputs": [],
   "source": [
    "sns.catplot(x='Day', y='Age', hue='Gender', kind=\"swarm\", data=df)"
   ]
  },
  {
   "cell_type": "code",
   "execution_count": null,
   "id": "44aa1b8a-f041-427f-b374-c1c1fcc7b7bc",
   "metadata": {},
   "outputs": [],
   "source": [
    "sns.scatterplot(x='Day', y='Age', hue='Gender', kind=\"swarm\", data=df)"
   ]
  },
  {
   "cell_type": "code",
   "execution_count": null,
   "id": "1ca37315-3bc9-4585-80f8-49e573e05228",
   "metadata": {},
   "outputs": [],
   "source": []
  },
  {
   "cell_type": "markdown",
   "id": "f110d82e-113e-467e-9529-8b3b0744af98",
   "metadata": {},
   "source": [
    "## Correlation (R^2 )"
   ]
  },
  {
   "cell_type": "code",
   "execution_count": null,
   "id": "b2e9072f-75dc-47c1-b033-2d4c8750c95e",
   "metadata": {},
   "outputs": [],
   "source": [
    "# heatmap\n",
    "correlation = df.corr().round(2)\n",
    "plt.figure(figsize = (14,7))\n",
    "sns.heatmap(correlation, annot = True, cmap = 'YlOrBr')\n",
    "\n",
    "\n",
    "# scatterplots\n",
    "plt.figure(figsize=(12,10))\n",
    "sns.pairplot(df, corner= True)"
   ]
  },
  {
   "cell_type": "markdown",
   "id": "a0419f50-65fb-4d7f-b97a-296e6b049f52",
   "metadata": {},
   "source": [
    "## Heatmap for correlation estimation (of pandas dataframe features)"
   ]
  },
  {
   "cell_type": "code",
   "execution_count": null,
   "id": "a57259e9-95a5-4fab-acdf-d93564a5f8bc",
   "metadata": {},
   "outputs": [],
   "source": [
    "sns.heatmap(df.corr(), \n",
    "        xticklabels=df.corr().columns,\n",
    "        yticklabels=df.corr().columns)"
   ]
  },
  {
   "cell_type": "markdown",
   "id": "7744f584",
   "metadata": {},
   "source": [
    "# Plotly finance stock plots (with slide bar)"
   ]
  },
  {
   "cell_type": "code",
   "execution_count": null,
   "id": "2bc5c6ca",
   "metadata": {},
   "outputs": [],
   "source": [
    "import plotly.graph_objects as go\n",
    "from plotly.subplots import make_subplots"
   ]
  },
  {
   "cell_type": "code",
   "execution_count": null,
   "id": "89dc3c4c",
   "metadata": {},
   "outputs": [],
   "source": [
    "def make_graph(stock_data, revenue_data, stock):\n",
    "    fig = make_subplots(rows=2, cols=1, shared_xaxes=True, subplot_titles=(\"Historical Share Price\", \"Historical Revenue\"), vertical_spacing = .3)\n",
    "    stock_data_specific = stock_data[stock_data.Date <= '2021--06-14']\n",
    "    revenue_data_specific = revenue_data[revenue_data.Date <= '2021-04-30']\n",
    "    fig.add_trace(go.Scatter(x=pd.to_datetime(stock_data_specific.Date, infer_datetime_format=True), y=stock_data_specific.Close.astype(\"float\"), name=\"Share Price\"), row=1, col=1)\n",
    "    fig.add_trace(go.Scatter(x=pd.to_datetime(revenue_data_specific.Date, infer_datetime_format=True), y=revenue_data_specific.Revenue.astype(\"float\"), name=\"Revenue\"), row=2, col=1)\n",
    "    fig.update_xaxes(title_text=\"Date\", row=1, col=1)\n",
    "    fig.update_xaxes(title_text=\"Date\", row=2, col=1)\n",
    "    fig.update_yaxes(title_text=\"Price ($US)\", row=1, col=1)\n",
    "    fig.update_yaxes(title_text=\"Revenue ($US Millions)\", row=2, col=1)\n",
    "    fig.update_layout(showlegend=False,\n",
    "    height=900,\n",
    "    title=stock,\n",
    "    xaxis_rangeslider_visible=True)\n",
    "    fig.show()"
   ]
  },
  {
   "cell_type": "markdown",
   "id": "9d2baf22-c7a2-4b78-945d-f7c3d8c0167b",
   "metadata": {},
   "source": [
    "## Quick plots with linear relationship (sns)"
   ]
  },
  {
   "cell_type": "code",
   "execution_count": null,
   "id": "51d5e966-22da-4dbd-aab6-1f5c91453b9b",
   "metadata": {},
   "outputs": [],
   "source": [
    "sns.regplot(x=\"stroke\", y=\"price\", data=df)"
   ]
  },
  {
   "cell_type": "markdown",
   "id": "aee50adf-db7c-47f7-9789-0e6874397f11",
   "metadata": {},
   "source": [
    "### And plot a residuals plot (to compliment the regression plot)"
   ]
  },
  {
   "cell_type": "code",
   "execution_count": null,
   "id": "492a756d-5d8e-4c8d-9561-6104a9e9aec1",
   "metadata": {},
   "outputs": [],
   "source": [
    "sns.regplot(x=\"highway-mpg\", y=\"price\", data=df) # or sns.residplot(x=df['highway-mpg'], y=df['price'])"
   ]
  },
  {
   "cell_type": "markdown",
   "id": "f382299a-4f8b-45df-b721-7d1c99a25dfc",
   "metadata": {},
   "source": [
    "### Box plot"
   ]
  },
  {
   "cell_type": "code",
   "execution_count": null,
   "id": "5af64ff6-c013-4fbe-a1e5-3a361dd4f794",
   "metadata": {},
   "outputs": [],
   "source": [
    "sns.boxplot(x=\"engine-location\", y=\"price\", data=df)"
   ]
  },
  {
   "cell_type": "markdown",
   "id": "e1fd99c9-6dd6-44fa-ad97-554c67e3beb8",
   "metadata": {},
   "source": [
    "### Plotting polynomial fits"
   ]
  },
  {
   "cell_type": "code",
   "execution_count": null,
   "id": "b840ef68-0e1b-4f35-bff7-7c5f64617b08",
   "metadata": {},
   "outputs": [],
   "source": [
    "def PollyPlot(xtrain, xtest, y_train, y_test, lr,poly_transform):\n",
    "    width = 12\n",
    "    height = 10\n",
    "    plt.figure(figsize=(width, height))\n",
    "    \n",
    "    \n",
    "    #training data \n",
    "    #testing data \n",
    "    # lr:  linear regression object \n",
    "    #poly_transform:  polynomial transformation object \n",
    " \n",
    "    xmax=max([xtrain.values.max(), xtest.values.max()])\n",
    "\n",
    "    xmin=min([xtrain.values.min(), xtest.values.min()])\n",
    "\n",
    "    x=np.arange(xmin, xmax, 0.1)\n",
    "\n",
    "\n",
    "    plt.plot(xtrain, y_train, 'ro', label='Training Data')\n",
    "    plt.plot(xtest, y_test, 'go', label='Test Data')\n",
    "    plt.plot(x, lr.predict(poly_transform.fit_transform(x.reshape(-1, 1))), label='Predicted Function')\n",
    "    plt.ylim([-10000, 60000])\n",
    "    plt.ylabel('Price')\n",
    "    plt.legend()"
   ]
  },
  {
   "cell_type": "code",
   "execution_count": null,
   "id": "0857e870-f045-46c9-9c0c-ea20d93ebaff",
   "metadata": {},
   "outputs": [],
   "source": [
    "PollyPlot(x_train['horsepower'], x_test['horsepower'], y_train, y_test, poly,pr)"
   ]
  },
  {
   "cell_type": "markdown",
   "id": "6d9c0cf4-ede2-41df-a2c6-25bf6de291ef",
   "metadata": {},
   "source": [
    "### Plottinf from dataframe (maplotlib)"
   ]
  },
  {
   "cell_type": "code",
   "execution_count": null,
   "id": "b28448df-86e1-4eff-af59-1ec6341ed728",
   "metadata": {},
   "outputs": [],
   "source": [
    "df.plot(kind='blabla') # blabla can be hist or line or sth else` "
   ]
  },
  {
   "cell_type": "code",
   "execution_count": null,
   "id": "8139bc58-3598-4637-94a8-1fb4c0a3b84f",
   "metadata": {},
   "outputs": [],
   "source": [
    "specified_entries_of_the_row = list(map(str, range(entrt_1st, entry_last)))\n",
    "df.loc('some_index', specified_entries_of_the_row).plot(kind='line')"
   ]
  },
  {
   "cell_type": "code",
   "execution_count": null,
   "id": "18dda0d1-397a-42d4-8da8-6ee1188d7c34",
   "metadata": {},
   "outputs": [],
   "source": [
    "# plot some arb. text on the canvas\n",
    "plt.text(2000, 6000, '2010 Earthquake')"
   ]
  },
  {
   "cell_type": "code",
   "execution_count": null,
   "id": "3f5f5adb-dc99-4796-8fd0-2795e4b387a8",
   "metadata": {},
   "outputs": [],
   "source": [
    "# add an arrow to the canvas\n",
    "plt.annotate('',  # s: str. Will leave it blank for no text\n",
    "             xy=(32, 70),  # place head of the arrow at point (year 2012 , pop 70)\n",
    "             xytext=(28, 20),  # place base of the arrow at point (year 2008 , pop 20)\n",
    "             xycoords='data',  # will use the coordinate system of the object being annotated\n",
    "             arrowprops=dict(arrowstyle='->', connectionstyle='arc3', color='blue', lw=2)\n",
    "             )\n",
    "\n",
    "# and maybe add some text\n",
    "plt.annotate('2008 - 2011 Financial Crisis',  # text to display\n",
    "             xy=(28, 30),  # start the text at at point (year 2008 , pop 30)\n",
    "             rotation=72.5,  # based on trial and error to match the arrow\n",
    "             va='bottom',  # want the text to be vertically 'bottom' aligned\n",
    "             ha='left',  # want the text to be horizontally 'left' algned.\n",
    "             )"
   ]
  },
  {
   "cell_type": "markdown",
   "id": "9c6d8867-8f85-4aed-a42d-40f468d5670d",
   "metadata": {},
   "source": [
    "### Pie charts (matplotlib)"
   ]
  },
  {
   "cell_type": "code",
   "execution_count": null,
   "id": "a24329b6-59ca-4017-8d25-0ef7e8bb9cc1",
   "metadata": {},
   "outputs": [],
   "source": [
    "colors_list = ['gold', 'yellowgreen', 'lightcoral', 'lightskyblue', 'lightgreen', 'pink']\n",
    "explode_list = [0.1, 0, 0, 0, 0.1, 0.1] # ratio for each continent with which to offset each wedge.\n",
    "\n",
    "df_continents['Total'].plot(kind='pie',\n",
    "                            figsize=(15, 6),\n",
    "                            autopct='%1.1f%%', \n",
    "                            startangle=90,    \n",
    "                            shadow=True,       \n",
    "                            labels=None,         # turn off labels on pie chart\n",
    "                            pctdistance=1.12,    # the ratio between the center of each pie slice and the start of the text generated by autopct \n",
    "                            colors=colors_list,  # add custom colors\n",
    "                            explode=explode_list # 'explode' lowest 3 continents\n",
    "                            )\n",
    "\n",
    "# scale the title up by 12% to match pctdistance\n",
    "plt.title('Immigration to Canada by Continent [1980 - 2013]', y=1.12) \n",
    "\n",
    "plt.axis('equal') \n",
    "\n",
    "# add legend\n",
    "plt.legend(labels=df_continents.index, loc='upper left') \n",
    "\n",
    "plt.show()"
   ]
  },
  {
   "cell_type": "markdown",
   "id": "baf47a15-fc16-4792-bb94-d6005bbef0e7",
   "metadata": {},
   "source": [
    "### Box plots"
   ]
  },
  {
   "cell_type": "code",
   "execution_count": null,
   "id": "4feac4b4-86d2-4689-9c4f-0d6d841f24a5",
   "metadata": {},
   "outputs": [],
   "source": [
    "df_IC = df_can.loc[['India','China'], years].transpose()\n",
    "\n",
    "df_IC.plot(kind='box', figsize=(8, 6))\n",
    "\n",
    "plt.title('Box plot of India/China Immigrants from 1980 - 2013')\n",
    "plt.ylabel('Number of Immigrants')\n",
    "\n",
    "plt.show()"
   ]
  },
  {
   "cell_type": "markdown",
   "id": "6b309558-8570-4518-b99a-dc859cebefdb",
   "metadata": {},
   "source": [
    "### Bubble plot"
   ]
  },
  {
   "cell_type": "code",
   "execution_count": null,
   "id": "8305c234-78ee-45ad-a613-49ed1059ef51",
   "metadata": {},
   "outputs": [],
   "source": [
    "# China\n",
    "ax0 = df_IC.plot(kind='scatter',\n",
    "                    x='Year',\n",
    "                    y='China',\n",
    "                    figsize=(14, 8),\n",
    "                    alpha=0.5,  # transparency\n",
    "                    color='green',\n",
    "                    s=norm_china * 2000 + 10,  # pass in weights \n",
    "                    xlim=(1975, 2015)\n",
    "                    )\n",
    "\n",
    "# India\n",
    "ax1 = df_IC.plot(kind='scatter',\n",
    "                    x='Year',\n",
    "                    y='India',\n",
    "                    alpha=0.5,\n",
    "                    color=\"blue\",\n",
    "                    s=norm_india * 2000 + 10,\n",
    "                    ax=ax0\n",
    "                    )\n",
    "\n",
    "ax0.set_ylabel('Number of Immigrants')\n",
    "ax0.set_title('Immigration from China and India from 1980 to 2013')\n",
    "ax0.legend(['China', 'India'], loc='upper left', fontsize='x-large')"
   ]
  },
  {
   "cell_type": "markdown",
   "id": "30e365f5-736e-43d6-a05b-67fc4b5b98eb",
   "metadata": {},
   "source": [
    "### Waffle chart maker (with matplotlib)"
   ]
  },
  {
   "cell_type": "code",
   "execution_count": null,
   "id": "a1180344-3109-4b45-9002-0383c0202188",
   "metadata": {},
   "outputs": [],
   "source": [
    "def create_waffle_chart(categories, values, height, width, colormap, value_sign=''):\n",
    "\n",
    "    # compute the proportion of each category with respect to the total\n",
    "    total_values = sum(values)\n",
    "    category_proportions = [(float(value) / total_values) for value in values]\n",
    "\n",
    "    # compute the total number of tiles\n",
    "    total_num_tiles = width * height # total number of tiles\n",
    "    print ('Total number of tiles is', total_num_tiles)\n",
    "    \n",
    "    # compute the number of tiles for each catagory\n",
    "    tiles_per_category = [round(proportion * total_num_tiles) for proportion in category_proportions]\n",
    "\n",
    "    # print out number of tiles per category\n",
    "    for i, tiles in enumerate(tiles_per_category):\n",
    "        print (df_dsn.index.values[i] + ': ' + str(tiles))\n",
    "    \n",
    "    # initialize the waffle chart as an empty matrix\n",
    "    waffle_chart = np.zeros((height, width))\n",
    "\n",
    "    # define indices to loop through waffle chart\n",
    "    category_index = 0\n",
    "    tile_index = 0\n",
    "\n",
    "    # populate the waffle chart\n",
    "    for col in range(width):\n",
    "        for row in range(height):\n",
    "            tile_index += 1\n",
    "\n",
    "            # if the number of tiles populated for the current category \n",
    "            # is equal to its corresponding allocated tiles...\n",
    "            if tile_index > sum(tiles_per_category[0:category_index]):\n",
    "                # ...proceed to the next category\n",
    "                category_index += 1       \n",
    "            \n",
    "            # set the class value to an integer, which increases with class\n",
    "            waffle_chart[row, col] = category_index\n",
    "    \n",
    "    # instantiate a new figure object\n",
    "    fig = plt.figure()\n",
    "\n",
    "    # use matshow to display the waffle chart\n",
    "    colormap = plt.cm.coolwarm\n",
    "    plt.matshow(waffle_chart, cmap=colormap)\n",
    "    plt.colorbar()\n",
    "\n",
    "    # get the axis\n",
    "    ax = plt.gca()\n",
    "\n",
    "    # set minor ticks\n",
    "    ax.set_xticks(np.arange(-.5, (width), 1), minor=True)\n",
    "    ax.set_yticks(np.arange(-.5, (height), 1), minor=True)\n",
    "    \n",
    "    # add dridlines based on minor ticks\n",
    "    ax.grid(which='minor', color='w', linestyle='-', linewidth=2)\n",
    "\n",
    "    plt.xticks([])\n",
    "    plt.yticks([])\n",
    "\n",
    "    # compute cumulative sum of individual categories to match color schemes between chart and legend\n",
    "    values_cumsum = np.cumsum(values)\n",
    "    total_values = values_cumsum[len(values_cumsum) - 1]\n",
    "\n",
    "    # create legend\n",
    "    legend_handles = []\n",
    "    for i, category in enumerate(categories):\n",
    "        if value_sign == '%':\n",
    "            label_str = category + ' (' + str(values[i]) + value_sign + ')'\n",
    "        else:\n",
    "            label_str = category + ' (' + value_sign + str(values[i]) + ')'\n",
    "            \n",
    "        color_val = colormap(float(values_cumsum[i])/total_values)\n",
    "        legend_handles.append(mpatches.Patch(color=color_val, label=label_str))\n",
    "\n",
    "    # add legend to chart\n",
    "    plt.legend(\n",
    "        handles=legend_handles,\n",
    "        loc='lower center', \n",
    "        ncol=len(categories),\n",
    "        bbox_to_anchor=(0., -0.2, 0.95, .1)\n",
    "    )\n",
    "    plt.show()"
   ]
  },
  {
   "cell_type": "code",
   "execution_count": null,
   "id": "365074f4-b547-4ab7-b14d-4a0647f72cd4",
   "metadata": {},
   "outputs": [],
   "source": [
    "width = 40 # width of chart\n",
    "height = 10 # height of chart\n",
    "\n",
    "categories = df_dsn.index.values # categories\n",
    "values = df_dsn['Total'] # correponding values of categories\n",
    "\n",
    "colormap = plt.cm.coolwarm # color map class"
   ]
  },
  {
   "cell_type": "code",
   "execution_count": null,
   "id": "29428ca6-b70c-4dff-8b7e-d9c1c6d598df",
   "metadata": {},
   "outputs": [],
   "source": [
    "create_waffle_chart(categories, values, height, width, colormap)"
   ]
  },
  {
   "cell_type": "markdown",
   "id": "96cef425-13ce-413a-823b-659991f1f968",
   "metadata": {},
   "source": [
    "# Work with Folium (for maps)"
   ]
  },
  {
   "cell_type": "code",
   "execution_count": null,
   "id": "c3ab8943-85f5-455e-8536-79aaa0bc4350",
   "metadata": {},
   "outputs": [],
   "source": [
    "import folium"
   ]
  },
  {
   "cell_type": "code",
   "execution_count": null,
   "id": "7711ca86-1478-4da5-8b64-2370e849fb47",
   "metadata": {},
   "outputs": [],
   "source": [
    "# create map and display it\n",
    "sanfran_map = folium.Map(location=[latitude, longitude], zoom_start=12)\n",
    "\n",
    "# display the map of San Francisco\n",
    "sanfran_map"
   ]
  },
  {
   "cell_type": "code",
   "execution_count": null,
   "id": "c1119aff-cff4-4d10-9f67-e11be8200fc4",
   "metadata": {},
   "outputs": [],
   "source": [
    "# instantiate a feature group for the incidents in the dataframe\n",
    "incidents = folium.map.FeatureGroup()\n",
    "\n",
    "# loop through the 100 crimes and add each to the incidents feature group\n",
    "for lat, lng, in zip(df_incidents.Y, df_incidents.X):\n",
    "    incidents.add_child(\n",
    "        folium.features.CircleMarker(\n",
    "            [lat, lng],\n",
    "            radius=5, # define how big you want the circle markers to be\n",
    "            color='yellow',\n",
    "            fill=True,\n",
    "            fill_color='blue',\n",
    "            fill_opacity=0.6\n",
    "        )\n",
    "    )\n",
    "\n",
    "# add incidents to map\n",
    "sanfran_map.add_child(incidents)"
   ]
  },
  {
   "cell_type": "markdown",
   "id": "bd20d8cd-be7f-45a2-ac25-c22d9ccdb0b2",
   "metadata": {},
   "source": [
    "#### with added pop-ups"
   ]
  },
  {
   "cell_type": "code",
   "execution_count": null,
   "id": "06ee77f9-94a0-45e5-a293-8ba7ff952f9c",
   "metadata": {},
   "outputs": [],
   "source": [
    "# instantiate a feature group for the incidents in the dataframe\n",
    "incidents = folium.map.FeatureGroup()\n",
    "\n",
    "# loop through the 100 crimes and add each to the incidents feature group\n",
    "for lat, lng, in zip(df_incidents.Y, df_incidents.X):\n",
    "    incidents.add_child(\n",
    "        folium.features.CircleMarker(\n",
    "            [lat, lng],\n",
    "            radius=5, # define how big you want the circle markers to be\n",
    "            color='yellow',\n",
    "            fill=True,\n",
    "            fill_color='blue',\n",
    "            fill_opacity=0.6\n",
    "        )\n",
    "    )\n",
    "\n",
    "# add pop-up text to each marker on the map\n",
    "latitudes = list(df_incidents.Y)\n",
    "longitudes = list(df_incidents.X)\n",
    "labels = list(df_incidents.Category)\n",
    "\n",
    "for lat, lng, label in zip(latitudes, longitudes, labels):\n",
    "    folium.Marker([lat, lng], popup=label).add_to(sanfran_map)    \n",
    "    \n",
    "# add incidents to map\n",
    "sanfran_map.add_child(incidents)"
   ]
  },
  {
   "cell_type": "code",
   "execution_count": null,
   "id": "ae7a6518-40d9-4296-9411-532e9fe0f03f",
   "metadata": {},
   "outputs": [],
   "source": [
    "#or just circle markers\n",
    "\n",
    "# create map and display it\n",
    "sanfran_map = folium.Map(location=[latitude, longitude], zoom_start=12)\n",
    "\n",
    "# loop through the 100 crimes and add each to the map\n",
    "for lat, lng, label in zip(df_incidents.Y, df_incidents.X, df_incidents.Category):\n",
    "    folium.features.CircleMarker(\n",
    "        [lat, lng],\n",
    "        radius=5, # define how big you want the circle markers to be\n",
    "        color='yellow',\n",
    "        fill=True,\n",
    "        popup=label,\n",
    "        fill_color='blue',\n",
    "        fill_opacity=0.6\n",
    "    ).add_to(sanfran_map)\n",
    "\n",
    "# show map\n",
    "sanfran_map"
   ]
  },
  {
   "cell_type": "code",
   "execution_count": null,
   "id": "7ccc3e3f-40be-4827-85d9-34ac773690d6",
   "metadata": {},
   "outputs": [],
   "source": [
    "# how about grouping them by category\n",
    "\n",
    "from folium import plugins\n",
    "\n",
    "# let's start again with a clean copy of the map of San Francisco\n",
    "sanfran_map = folium.Map(location = [latitude, longitude], zoom_start = 12)\n",
    "\n",
    "# instantiate a mark cluster object for the incidents in the dataframe\n",
    "incidents = plugins.MarkerCluster().add_to(sanfran_map)\n",
    "\n",
    "# loop through the dataframe and add each data point to the mark cluster\n",
    "for lat, lng, label, in zip(df_incidents.Y, df_incidents.X, df_incidents.Category):\n",
    "    folium.Marker(\n",
    "        location=[lat, lng],\n",
    "        icon=None,\n",
    "        popup=label,\n",
    "    ).add_to(incidents)\n",
    "\n",
    "# display map\n",
    "sanfran_map"
   ]
  },
  {
   "cell_type": "markdown",
   "id": "aadc45f5-96a2-4235-9c8f-f1a146b2e65c",
   "metadata": {},
   "source": [
    "# Choropleth Maps\n",
    "\n",
    "### (Better google it)"
   ]
  },
  {
   "cell_type": "markdown",
   "id": "cb1b1b03-d302-4361-9bf7-0172818ea1f1",
   "metadata": {},
   "source": [
    "### Nice barplots for .value_counts() - good for categorical variables"
   ]
  },
  {
   "cell_type": "code",
   "execution_count": null,
   "id": "80aa1561-c46b-40bc-987e-c30a6209b081",
   "metadata": {},
   "outputs": [],
   "source": [
    "Orbit_val_counts = df['Orbit'].value_counts().to_frame()\n",
    "Orbit_val_counts.reset_index(inplace=True)\n",
    "\n",
    "sns.barplot(x=Orbit_val_counts.iloc[:,0], y=Orbit_val_counts.iloc[:,1])  \n",
    "plt.show()"
   ]
  },
  {
   "cell_type": "markdown",
   "id": "31011920-acdd-4711-b6da-457ede1e3794",
   "metadata": {},
   "source": [
    "### Grid of barplots"
   ]
  },
  {
   "cell_type": "code",
   "execution_count": null,
   "id": "71c72755-9ed1-4f05-bfdb-396cda1de56b",
   "metadata": {},
   "outputs": [],
   "source": [
    "fig, axes = plt.subplots(3, 4, figsize=(16,8))\n",
    "fig.suptitle('Wine anaylisis barplots')\n",
    "\n",
    "i = 0\n",
    "for col in df.columns:\n",
    "    sns.barplot(ax = axes[i//4,i%4], x='quality', y=col, data=df, errorbar = \"sd\", capsize = 0.1, estimator=np.mean)  \n",
    "    i = i + 1\n",
    "    # graph1.axhline(1.0, linestyle=\"dashed\")"
   ]
  },
  {
   "cell_type": "markdown",
   "id": "2fd92a7f-dfb1-4387-bc41-96ce505cf6e7",
   "metadata": {},
   "source": [
    "### Nice hued Density estimation plots"
   ]
  },
  {
   "cell_type": "code",
   "execution_count": null,
   "id": "23ba4e61-2c77-4fd9-b605-23ab754d0a0f",
   "metadata": {},
   "outputs": [],
   "source": [
    "sns.kdeplot(\n",
    "   data=df, x=\"sulphates\", hue=\"quality\",\n",
    "   fill=True, common_norm=False, palette=\"crest\",\n",
    "   alpha=.5, linewidth=0,\n",
    ")"
   ]
  },
  {
   "cell_type": "markdown",
   "id": "5a8b79ad-4414-4d94-9a6a-f1e9458e1932",
   "metadata": {},
   "source": [
    "### Sick density plot grid ;)"
   ]
  },
  {
   "cell_type": "code",
   "execution_count": null,
   "id": "4f65f076-82d6-4366-b96a-bc48368f2755",
   "metadata": {},
   "outputs": [],
   "source": [
    "fig, axes = plt.subplots(3, 4, figsize=(16,8))\n",
    "fig.suptitle('Wine anaylisis barplots')\n",
    "\n",
    "i = 0\n",
    "for col in df.columns:\n",
    "    sns.kdeplot(ax = axes[i//4,i%4],\n",
    "       data=df, x=col, hue=\"quality\",\n",
    "       fill=True, common_norm=False, palette=\"crest\",\n",
    "       alpha=.5, linewidth=0, warn_singular=False\n",
    "    )\n",
    "    i = i + 1\n",
    "    \n",
    "fig.tight_layout()"
   ]
  },
  {
   "cell_type": "markdown",
   "id": "3cce6f1a-6521-49ed-b530-563580f47429",
   "metadata": {},
   "source": []
  },
  {
   "cell_type": "code",
   "execution_count": null,
   "id": "6cd5b11c-0635-449e-b3a2-7d629ef83fd6",
   "metadata": {},
   "outputs": [],
   "source": []
  }
 ],
 "metadata": {
  "kernelspec": {
   "display_name": "Python 3 (ipykernel)",
   "language": "python",
   "name": "python3"
  },
  "language_info": {
   "codemirror_mode": {
    "name": "ipython",
    "version": 3
   },
   "file_extension": ".py",
   "mimetype": "text/x-python",
   "name": "python",
   "nbconvert_exporter": "python",
   "pygments_lexer": "ipython3",
   "version": "3.10.8"
  }
 },
 "nbformat": 4,
 "nbformat_minor": 5
}
