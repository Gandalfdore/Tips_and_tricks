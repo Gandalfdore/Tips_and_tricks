{
 "cells": [
  {
   "cell_type": "code",
   "execution_count": 2,
   "id": "678ddf2b-fb91-4dea-a2b1-d04e380e0cd7",
   "metadata": {},
   "outputs": [],
   "source": [
    "#used https://medium.com/ironhack/data-visualization-con-pandas-y-seaborn-1044906af34f as source"
   ]
  },
  {
   "cell_type": "markdown",
   "id": "d42faba5-5002-4d77-942e-4a80620cb7fa",
   "metadata": {},
   "source": [
    "# Double barplots (allows to see possible patterns in subgroups)"
   ]
  },
  {
   "cell_type": "markdown",
   "id": "13b9ca04-567e-40b7-9555-274134dda905",
   "metadata": {},
   "source": [
    "@ few nice artciles about seaborn plots https://pythonbasics.org/seaborn-barplot/ ,  https://seaborn.pydata.org/generated/seaborn.barplot.html"
   ]
  },
  {
   "cell_type": "code",
   "execution_count": null,
   "id": "fbdb4288-0b89-4f52-834c-711b15394c09",
   "metadata": {},
   "outputs": [],
   "source": [
    "sns.barplot(x='Food', y='Age', hue='Gender', data=df, estimator=np.median)      "
   ]
  },
  {
   "cell_type": "code",
   "execution_count": null,
   "id": "23e68d0c-87dd-4397-bd97-7ab426d47028",
   "metadata": {},
   "outputs": [],
   "source": [
    "sns.countplot(x = 'class', hue = 'sex', data = titanic, palette = 'magma')  #### for nice counplots\n",
    "plt.title('Survivors')\n",
    "plt.show()"
   ]
  },
  {
   "cell_type": "code",
   "execution_count": null,
   "id": "2dcc7473-05ef-416e-b6df-668a1616cdf4",
   "metadata": {},
   "outputs": [],
   "source": [
    "sns.barplot(x = 'class', y = 'survived', hue = 'sex', data = titanic,  #### for nice barplots\n",
    "            palette = 'magma',  \n",
    "            capsize = 0.05,                       \n",
    "            )"
   ]
  },
  {
   "cell_type": "markdown",
   "id": "67fdcd3b-1267-4e13-8987-5de65ce705ce",
   "metadata": {},
   "source": [
    "# Histograms and kernal density plots (to get a good idea about the overall distribution)"
   ]
  },
  {
   "cell_type": "code",
   "execution_count": null,
   "id": "a73fdcb6-1fa1-4045-9a3a-2bf0aff5f9b6",
   "metadata": {},
   "outputs": [],
   "source": [
    "sns.distplot(df['Age'])"
   ]
  },
  {
   "cell_type": "code",
   "execution_count": null,
   "id": "d28964d2-dd5c-45dc-8a61-fa716ffd728d",
   "metadata": {},
   "outputs": [],
   "source": [
    "sns.kdeplot(data=df['Age'], shade=True)"
   ]
  },
  {
   "cell_type": "markdown",
   "id": "8bf69c21-5f98-437f-9792-3fd83fce2775",
   "metadata": {},
   "source": [
    "# Box plots and violin plots (useful for dispplaying errors and devaitions)"
   ]
  },
  {
   "cell_type": "code",
   "execution_count": null,
   "id": "c14e31f2-933c-48db-ba26-04d81bbb502c",
   "metadata": {},
   "outputs": [],
   "source": [
    "sns.boxplot(data=df, x='Food', y='Age')"
   ]
  },
  {
   "cell_type": "code",
   "execution_count": null,
   "id": "6625a1a9-f42c-482b-8847-a96c052b6abe",
   "metadata": {},
   "outputs": [],
   "source": [
    "sns.violinplot(data=df, x='Gender', y='Age')"
   ]
  },
  {
   "cell_type": "markdown",
   "id": "36469785-20c5-4467-804b-b4e418f432db",
   "metadata": {},
   "source": [
    "# Catplots and scatterplots (good for looking for correlation with categorical variables)"
   ]
  },
  {
   "cell_type": "code",
   "execution_count": null,
   "id": "59875039-d247-4f15-ac80-bc96cbea15e6",
   "metadata": {},
   "outputs": [],
   "source": [
    "sns.catplot(x='Day', y='Age', hue='Gender', kind=\"swarm\", data=df)"
   ]
  },
  {
   "cell_type": "code",
   "execution_count": null,
   "id": "44aa1b8a-f041-427f-b374-c1c1fcc7b7bc",
   "metadata": {},
   "outputs": [],
   "source": [
    "sns.scatterplot(x='Day', y='Age', hue='Gender', kind=\"swarm\", data=df)"
   ]
  },
  {
   "cell_type": "markdown",
   "id": "7744f584",
   "metadata": {},
   "source": [
    "# Plotly finance stock plots (with slide bar)"
   ]
  },
  {
   "cell_type": "code",
   "execution_count": null,
   "id": "2bc5c6ca",
   "metadata": {},
   "outputs": [],
   "source": [
    "import plotly.graph_objects as go\n",
    "from plotly.subplots import make_subplots"
   ]
  },
  {
   "cell_type": "code",
   "execution_count": null,
   "id": "89dc3c4c",
   "metadata": {},
   "outputs": [],
   "source": [
    "def make_graph(stock_data, revenue_data, stock):\n",
    "    fig = make_subplots(rows=2, cols=1, shared_xaxes=True, subplot_titles=(\"Historical Share Price\", \"Historical Revenue\"), vertical_spacing = .3)\n",
    "    stock_data_specific = stock_data[stock_data.Date <= '2021--06-14']\n",
    "    revenue_data_specific = revenue_data[revenue_data.Date <= '2021-04-30']\n",
    "    fig.add_trace(go.Scatter(x=pd.to_datetime(stock_data_specific.Date, infer_datetime_format=True), y=stock_data_specific.Close.astype(\"float\"), name=\"Share Price\"), row=1, col=1)\n",
    "    fig.add_trace(go.Scatter(x=pd.to_datetime(revenue_data_specific.Date, infer_datetime_format=True), y=revenue_data_specific.Revenue.astype(\"float\"), name=\"Revenue\"), row=2, col=1)\n",
    "    fig.update_xaxes(title_text=\"Date\", row=1, col=1)\n",
    "    fig.update_xaxes(title_text=\"Date\", row=2, col=1)\n",
    "    fig.update_yaxes(title_text=\"Price ($US)\", row=1, col=1)\n",
    "    fig.update_yaxes(title_text=\"Revenue ($US Millions)\", row=2, col=1)\n",
    "    fig.update_layout(showlegend=False,\n",
    "    height=900,\n",
    "    title=stock,\n",
    "    xaxis_rangeslider_visible=True)\n",
    "    fig.show()"
   ]
  },
  {
   "cell_type": "markdown",
   "id": "9d2baf22-c7a2-4b78-945d-f7c3d8c0167b",
   "metadata": {},
   "source": [
    "## Quick plots with linear relationship (sns)"
   ]
  },
  {
   "cell_type": "code",
   "execution_count": null,
   "id": "51d5e966-22da-4dbd-aab6-1f5c91453b9b",
   "metadata": {},
   "outputs": [],
   "source": [
    "sns.regplot(x=\"stroke\", y=\"price\", data=df)"
   ]
  },
  {
   "cell_type": "markdown",
   "id": "aee50adf-db7c-47f7-9789-0e6874397f11",
   "metadata": {},
   "source": [
    "### And plot a residuals plot (to compliment the regression plot)"
   ]
  },
  {
   "cell_type": "code",
   "execution_count": null,
   "id": "492a756d-5d8e-4c8d-9561-6104a9e9aec1",
   "metadata": {},
   "outputs": [],
   "source": [
    "sns.regplot(x=\"highway-mpg\", y=\"price\", data=df) # or sns.residplot(x=df['highway-mpg'], y=df['price'])"
   ]
  },
  {
   "cell_type": "markdown",
   "id": "f382299a-4f8b-45df-b721-7d1c99a25dfc",
   "metadata": {},
   "source": [
    "### Box plot"
   ]
  },
  {
   "cell_type": "code",
   "execution_count": null,
   "id": "5af64ff6-c013-4fbe-a1e5-3a361dd4f794",
   "metadata": {},
   "outputs": [],
   "source": [
    "sns.boxplot(x=\"engine-location\", y=\"price\", data=df)"
   ]
  },
  {
   "cell_type": "markdown",
   "id": "e1fd99c9-6dd6-44fa-ad97-554c67e3beb8",
   "metadata": {},
   "source": [
    "### Plotting polynomial fits"
   ]
  },
  {
   "cell_type": "code",
   "execution_count": null,
   "id": "b840ef68-0e1b-4f35-bff7-7c5f64617b08",
   "metadata": {},
   "outputs": [],
   "source": [
    "def PollyPlot(xtrain, xtest, y_train, y_test, lr,poly_transform):\n",
    "    width = 12\n",
    "    height = 10\n",
    "    plt.figure(figsize=(width, height))\n",
    "    \n",
    "    \n",
    "    #training data \n",
    "    #testing data \n",
    "    # lr:  linear regression object \n",
    "    #poly_transform:  polynomial transformation object \n",
    " \n",
    "    xmax=max([xtrain.values.max(), xtest.values.max()])\n",
    "\n",
    "    xmin=min([xtrain.values.min(), xtest.values.min()])\n",
    "\n",
    "    x=np.arange(xmin, xmax, 0.1)\n",
    "\n",
    "\n",
    "    plt.plot(xtrain, y_train, 'ro', label='Training Data')\n",
    "    plt.plot(xtest, y_test, 'go', label='Test Data')\n",
    "    plt.plot(x, lr.predict(poly_transform.fit_transform(x.reshape(-1, 1))), label='Predicted Function')\n",
    "    plt.ylim([-10000, 60000])\n",
    "    plt.ylabel('Price')\n",
    "    plt.legend()"
   ]
  },
  {
   "cell_type": "code",
   "execution_count": null,
   "id": "0857e870-f045-46c9-9c0c-ea20d93ebaff",
   "metadata": {},
   "outputs": [],
   "source": [
    "PollyPlot(x_train['horsepower'], x_test['horsepower'], y_train, y_test, poly,pr)"
   ]
  },
  {
   "cell_type": "markdown",
   "id": "6d9c0cf4-ede2-41df-a2c6-25bf6de291ef",
   "metadata": {},
   "source": []
  },
  {
   "cell_type": "code",
   "execution_count": null,
   "id": "b28448df-86e1-4eff-af59-1ec6341ed728",
   "metadata": {},
   "outputs": [],
   "source": []
  }
 ],
 "metadata": {
  "kernelspec": {
   "display_name": "Python 3 (ipykernel)",
   "language": "python",
   "name": "python3"
  },
  "language_info": {
   "codemirror_mode": {
    "name": "ipython",
    "version": 3
   },
   "file_extension": ".py",
   "mimetype": "text/x-python",
   "name": "python",
   "nbconvert_exporter": "python",
   "pygments_lexer": "ipython3",
   "version": "3.10.8"
  }
 },
 "nbformat": 4,
 "nbformat_minor": 5
}
