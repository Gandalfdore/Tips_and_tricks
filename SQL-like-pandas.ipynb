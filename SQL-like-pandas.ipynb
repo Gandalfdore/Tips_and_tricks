{
 "cells": [
  {
   "cell_type": "markdown",
   "id": "d8383723-e430-4ac0-93f0-c0d13258c7e0",
   "metadata": {},
   "source": [
    "# SQL-like commands in pandas"
   ]
  },
  {
   "cell_type": "markdown",
   "id": "ce85af82-683b-49f7-9bda-710869e2227f",
   "metadata": {},
   "source": [
    "## Take out values of df filetred by condition"
   ]
  },
  {
   "cell_type": "code",
   "execution_count": null,
   "id": "03c1e911-a9bc-4365-88d1-7f27dd1daa63",
   "metadata": {},
   "outputs": [],
   "source": [
    "# for example where weather is \"Clear\"\n",
    "df = df[df.Weather == \"Clear\"]\n",
    "df = df[df['Wind speed'] == 4]\n",
    "\n",
    "# or\n",
    "df = df.groupby('Weather').get_group('Clear')"
   ]
  },
  {
   "cell_type": "markdown",
   "id": "e00cf0d4-1e65-481b-aa94-46e8d3920913",
   "metadata": {},
   "source": []
  },
  {
   "cell_type": "code",
   "execution_count": null,
   "id": "02e3fce8-9941-485f-b3ae-f3115f2337c8",
   "metadata": {},
   "outputs": [],
   "source": []
  },
  {
   "cell_type": "markdown",
   "id": "8cd8af65-4a16-41f0-9dd3-dcaaf8098dad",
   "metadata": {},
   "source": []
  },
  {
   "cell_type": "code",
   "execution_count": null,
   "id": "f53d0a64-9bb8-4ff1-8f9f-a06e2996abe6",
   "metadata": {},
   "outputs": [],
   "source": []
  },
  {
   "cell_type": "markdown",
   "id": "8c17edd4-d6b9-4ff0-b44d-ae16830ebd4f",
   "metadata": {},
   "source": []
  },
  {
   "cell_type": "code",
   "execution_count": null,
   "id": "5f5bcb25-c751-41ae-ba82-0d03974664bc",
   "metadata": {},
   "outputs": [],
   "source": []
  }
 ],
 "metadata": {
  "kernelspec": {
   "display_name": "Python 3 (ipykernel)",
   "language": "python",
   "name": "python3"
  },
  "language_info": {
   "codemirror_mode": {
    "name": "ipython",
    "version": 3
   },
   "file_extension": ".py",
   "mimetype": "text/x-python",
   "name": "python",
   "nbconvert_exporter": "python",
   "pygments_lexer": "ipython3",
   "version": "3.10.8"
  }
 },
 "nbformat": 4,
 "nbformat_minor": 5
}
